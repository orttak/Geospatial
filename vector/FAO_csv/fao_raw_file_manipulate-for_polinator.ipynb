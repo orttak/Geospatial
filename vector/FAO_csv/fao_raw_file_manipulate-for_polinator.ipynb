{
 "cells": [
  {
   "cell_type": "code",
   "execution_count": 1,
   "metadata": {},
   "outputs": [],
   "source": [
    "import pandas as pd\n",
    "import geopandas as gpd"
   ]
  },
  {
   "cell_type": "code",
   "execution_count": 82,
   "metadata": {},
   "outputs": [],
   "source": [
    "#main raw file which includes all Items\n",
    "fao_raw=pd.read_excel('fao/FAO production 1992-2018 (11 pollination crops for NCA project - global data - TWN_adj).xlsx')"
   ]
  },
  {
   "cell_type": "code",
   "execution_count": 83,
   "metadata": {},
   "outputs": [
    {
     "data": {
      "text/html": [
       "<div>\n",
       "<style scoped>\n",
       "    .dataframe tbody tr th:only-of-type {\n",
       "        vertical-align: middle;\n",
       "    }\n",
       "\n",
       "    .dataframe tbody tr th {\n",
       "        vertical-align: top;\n",
       "    }\n",
       "\n",
       "    .dataframe thead th {\n",
       "        text-align: right;\n",
       "    }\n",
       "</style>\n",
       "<table border=\"1\" class=\"dataframe\">\n",
       "  <thead>\n",
       "    <tr style=\"text-align: right;\">\n",
       "      <th></th>\n",
       "      <th>Area Code</th>\n",
       "      <th>Area</th>\n",
       "      <th>Country</th>\n",
       "      <th>Item Code</th>\n",
       "      <th>Item</th>\n",
       "      <th>Year</th>\n",
       "      <th>Value</th>\n",
       "    </tr>\n",
       "  </thead>\n",
       "  <tbody>\n",
       "    <tr>\n",
       "      <th>0</th>\n",
       "      <td>2</td>\n",
       "      <td>Afghanistan</td>\n",
       "      <td>AFG</td>\n",
       "      <td>515</td>\n",
       "      <td>Apples</td>\n",
       "      <td>1992</td>\n",
       "      <td>17200.0</td>\n",
       "    </tr>\n",
       "    <tr>\n",
       "      <th>1</th>\n",
       "      <td>2</td>\n",
       "      <td>Afghanistan</td>\n",
       "      <td>AFG</td>\n",
       "      <td>515</td>\n",
       "      <td>Apples</td>\n",
       "      <td>1993</td>\n",
       "      <td>17000.0</td>\n",
       "    </tr>\n",
       "    <tr>\n",
       "      <th>2</th>\n",
       "      <td>2</td>\n",
       "      <td>Afghanistan</td>\n",
       "      <td>AFG</td>\n",
       "      <td>515</td>\n",
       "      <td>Apples</td>\n",
       "      <td>1994</td>\n",
       "      <td>17500.0</td>\n",
       "    </tr>\n",
       "    <tr>\n",
       "      <th>3</th>\n",
       "      <td>2</td>\n",
       "      <td>Afghanistan</td>\n",
       "      <td>AFG</td>\n",
       "      <td>515</td>\n",
       "      <td>Apples</td>\n",
       "      <td>1995</td>\n",
       "      <td>19669.0</td>\n",
       "    </tr>\n",
       "    <tr>\n",
       "      <th>4</th>\n",
       "      <td>2</td>\n",
       "      <td>Afghanistan</td>\n",
       "      <td>AFG</td>\n",
       "      <td>515</td>\n",
       "      <td>Apples</td>\n",
       "      <td>1996</td>\n",
       "      <td>23341.0</td>\n",
       "    </tr>\n",
       "  </tbody>\n",
       "</table>\n",
       "</div>"
      ],
      "text/plain": [
       "   Area Code         Area Country  Item Code    Item  Year    Value\n",
       "0          2  Afghanistan     AFG        515  Apples  1992  17200.0\n",
       "1          2  Afghanistan     AFG        515  Apples  1993  17000.0\n",
       "2          2  Afghanistan     AFG        515  Apples  1994  17500.0\n",
       "3          2  Afghanistan     AFG        515  Apples  1995  19669.0\n",
       "4          2  Afghanistan     AFG        515  Apples  1996  23341.0"
      ]
     },
     "execution_count": 83,
     "metadata": {},
     "output_type": "execute_result"
    }
   ],
   "source": [
    "fao_raw.head()"
   ]
  },
  {
   "cell_type": "code",
   "execution_count": 4,
   "metadata": {},
   "outputs": [
    {
     "data": {
      "text/plain": [
       "Area Code      int64\n",
       "Area          object\n",
       "Country       object\n",
       "Item Code      int64\n",
       "Item          object\n",
       "Year           int64\n",
       "Value        float64\n",
       "dtype: object"
      ]
     },
     "execution_count": 4,
     "metadata": {},
     "output_type": "execute_result"
    }
   ],
   "source": [
    "fao_raw.dtypes"
   ]
  },
  {
   "cell_type": "code",
   "execution_count": 5,
   "metadata": {},
   "outputs": [
    {
     "data": {
      "text/plain": [
       "array([221, 711, 515, 526, 569, 568, 534, 521, 536, 328, 289, 267, 567,\n",
       "       176, 414, 181, 531, 530, 220, 401, 397, 399, 497, 430, 394, 236,\n",
       "       544, 495, 388, 689, 507, 242, 270, 661, 249, 217, 656, 773, 254,\n",
       "       571, 572, 339, 600, 280, 423, 195, 550, 592, 292, 587, 547,  89,\n",
       "       554, 197, 692, 263, 224, 687, 216, 203])"
      ]
     },
     "execution_count": 5,
     "metadata": {},
     "output_type": "execute_result"
    }
   ],
   "source": [
    "fao_raw['Item Code'].unique()"
   ]
  },
  {
   "cell_type": "code",
   "execution_count": 74,
   "metadata": {},
   "outputs": [],
   "source": [
    "#shortName=pd.read_csv('fao/country_shortname_V1.csv',usecols=[0, 1,2])\n",
    "shortName=pd.read_excel('fao/country_short_name_with_percantege.xlsx',usecols=[0,1,2,6,7,8,9])"
   ]
  },
  {
   "cell_type": "code",
   "execution_count": 75,
   "metadata": {},
   "outputs": [
    {
     "data": {
      "text/plain": [
       "Area                             object\n",
       "Country                          object\n",
       "Area Code                        object\n",
       "Split_Year                      float64\n",
       "What_happened                    object\n",
       "Country_split_(by_area_code)     object\n",
       "Percentages                      object\n",
       "dtype: object"
      ]
     },
     "execution_count": 75,
     "metadata": {},
     "output_type": "execute_result"
    }
   ],
   "source": [
    "shortName.dtypes"
   ]
  },
  {
   "cell_type": "code",
   "execution_count": 76,
   "metadata": {},
   "outputs": [
    {
     "data": {
      "text/html": [
       "<div>\n",
       "<style scoped>\n",
       "    .dataframe tbody tr th:only-of-type {\n",
       "        vertical-align: middle;\n",
       "    }\n",
       "\n",
       "    .dataframe tbody tr th {\n",
       "        vertical-align: top;\n",
       "    }\n",
       "\n",
       "    .dataframe thead th {\n",
       "        text-align: right;\n",
       "    }\n",
       "</style>\n",
       "<table border=\"1\" class=\"dataframe\">\n",
       "  <thead>\n",
       "    <tr style=\"text-align: right;\">\n",
       "      <th></th>\n",
       "      <th>Area</th>\n",
       "      <th>Country</th>\n",
       "      <th>Area Code</th>\n",
       "      <th>Split_Year</th>\n",
       "      <th>What_happened</th>\n",
       "      <th>Country_split_(by_area_code)</th>\n",
       "      <th>Percentages</th>\n",
       "    </tr>\n",
       "  </thead>\n",
       "  <tbody>\n",
       "    <tr>\n",
       "      <th>0</th>\n",
       "      <td>Armenia</td>\n",
       "      <td>ARM</td>\n",
       "      <td>1</td>\n",
       "      <td>NaN</td>\n",
       "      <td>NaN</td>\n",
       "      <td>NaN</td>\n",
       "      <td>NaN</td>\n",
       "    </tr>\n",
       "    <tr>\n",
       "      <th>1</th>\n",
       "      <td>Afghanistan</td>\n",
       "      <td>AFG</td>\n",
       "      <td>2</td>\n",
       "      <td>NaN</td>\n",
       "      <td>NaN</td>\n",
       "      <td>NaN</td>\n",
       "      <td>NaN</td>\n",
       "    </tr>\n",
       "    <tr>\n",
       "      <th>2</th>\n",
       "      <td>Albania</td>\n",
       "      <td>ALB</td>\n",
       "      <td>3</td>\n",
       "      <td>NaN</td>\n",
       "      <td>NaN</td>\n",
       "      <td>NaN</td>\n",
       "      <td>NaN</td>\n",
       "    </tr>\n",
       "    <tr>\n",
       "      <th>3</th>\n",
       "      <td>Algeria</td>\n",
       "      <td>DZA</td>\n",
       "      <td>4</td>\n",
       "      <td>NaN</td>\n",
       "      <td>NaN</td>\n",
       "      <td>NaN</td>\n",
       "      <td>NaN</td>\n",
       "    </tr>\n",
       "    <tr>\n",
       "      <th>4</th>\n",
       "      <td>American Samoa</td>\n",
       "      <td>ASM</td>\n",
       "      <td>5</td>\n",
       "      <td>NaN</td>\n",
       "      <td>NaN</td>\n",
       "      <td>NaN</td>\n",
       "      <td>NaN</td>\n",
       "    </tr>\n",
       "  </tbody>\n",
       "</table>\n",
       "</div>"
      ],
      "text/plain": [
       "             Area Country Area Code  Split_Year What_happened  \\\n",
       "0         Armenia     ARM         1         NaN           NaN   \n",
       "1     Afghanistan     AFG         2         NaN           NaN   \n",
       "2         Albania     ALB         3         NaN           NaN   \n",
       "3         Algeria     DZA         4         NaN           NaN   \n",
       "4  American Samoa     ASM         5         NaN           NaN   \n",
       "\n",
       "  Country_split_(by_area_code) Percentages  \n",
       "0                          NaN         NaN  \n",
       "1                          NaN         NaN  \n",
       "2                          NaN         NaN  \n",
       "3                          NaN         NaN  \n",
       "4                          NaN         NaN  "
      ]
     },
     "execution_count": 76,
     "metadata": {},
     "output_type": "execute_result"
    }
   ],
   "source": [
    "shortName.head()"
   ]
  },
  {
   "cell_type": "code",
   "execution_count": 77,
   "metadata": {},
   "outputs": [
    {
     "data": {
      "text/plain": [
       "60"
      ]
     },
     "execution_count": 77,
     "metadata": {},
     "output_type": "execute_result"
    }
   ],
   "source": [
    "len(fao_raw['Item Code'].unique())"
   ]
  },
  {
   "cell_type": "markdown",
   "metadata": {},
   "source": [
    "#### FAO Excel export according to crop type\n",
    "\n",
    "With below code first, we split fao excel by crop and pivot this table according to year\n",
    "and put the value of each product under year columns which names are \"1992\", \"1993\" .etc and then\n",
    "merge with shortName file to calculate seperated country statistic. For this calculation, we use weight info that in shortName file.\n",
    "\n",
    "Last prdouct will be merged with world shp and use for pollination model for NCA project."
   ]
  },
  {
   "cell_type": "code",
   "execution_count": 63,
   "metadata": {},
   "outputs": [],
   "source": [
    "output_folder='polinatior_model_from_fao'\n",
    "for i in fao_raw['Item Code'].unique():\n",
    "   \n",
    "    # with this for loop, we export each product from fao excel file\n",
    "    # i means indiviual item\n",
    "    \n",
    "    # we get the item name\n",
    "    item_name=fao_raw[fao_raw['Item Code']==i].Item.values[0]\n",
    "    '''\n",
    "    # we used this block when we want to manipulate name differently\n",
    "    if len(item_name.split(','))>1 or len(item_name.split(' '))>1 :\n",
    "        # with this blog, if item_name include more than 1 word,\n",
    "        # we get the first word and update item_name variable\n",
    "        if len(item_name.split(','))>1:\n",
    "            #item_name=(item_name.split(','))[0]\n",
    "            item_name=item_name.replace(',','_')\n",
    "            item_name=item_name.replace(' ','_')\n",
    "        else:\n",
    "            #item_name=(item_name.split(' '))[0]\n",
    "            item_name=item_name.replace(' ','_')\n",
    "            item_name=item_name.replace(',','_')\n",
    "    '''\n",
    "    item_name=item_name.replace(',','_')\n",
    "    item_name=item_name.replace(' ','_')\n",
    "    # get the target item into new dataframe \n",
    "    product=fao_raw[fao_raw['Item Code']==i]\n",
    "    # with pivot method, we convert the all year row into column value\n",
    "    pivot_product=pd.pivot_table(product,index=['Area Code',\"Area\",'Item Code','Item'],columns='Year',values=['Value']).reset_index()\n",
    "    #create new column name\n",
    "    columns=[]\n",
    "    for j,k in pivot_product.columns:\n",
    "        if j!='Value':\n",
    "            columns.append(j)\n",
    "        if k!='':\n",
    "            columns.append(k)\n",
    "    #update column name\n",
    "    pivot_product.columns=columns\n",
    "    #pivot_product['Area Code']=pivot_product['Area Code'].astype('str')\n",
    "    # we get country short name info from shortName csv file and merge with pivot_product\n",
    "    last_product=pd.merge(shortName,pivot_product,left_on='Area Code',right_on='Area Code',how='inner')\n",
    "    # drop duplicate column and rename the Area column\n",
    "    last_product.drop(columns=['Area_y'],inplace=True)\n",
    "    last_product.rename(columns={'Area_x':'Area'},inplace=True)\n",
    "    #export data to target folder with iten_name\n",
    "    last_product.columns=last_product.columns.astype(str)\n",
    "    for index,row in last_product.iterrows():\n",
    "        if not pd.isna(row['Country_split_(by_area_code)']):\n",
    "            split_by_area_code=row['Country_split_(by_area_code)'].split(',')\n",
    "            split_year=int(row['Year'])\n",
    "            percentage=row['Percentages'].split(',')\n",
    "            #print(split_by_area_code)\n",
    "            for index2,area_code in enumerate(split_by_area_code):\n",
    "                #try:\n",
    "                pd.options.mode.chained_assignment = None \n",
    "                target_row=last_product[last_product['Area Code']==area_code]\n",
    "                #print(target_row.loc[:,'1992':str(split_year-1)])\n",
    "                up=row['1992':str(split_year-1)].apply(lambda x:x*float(percentage[index2]))\n",
    "                #print(up)\n",
    "                for i in up.index:\n",
    "                    target_row.loc[:,i]=up.loc[i]\n",
    "                    #print(target_row.loc[:,'1992':str(split_year-1)])\n",
    "\n",
    "                last_product.update(target_row)\n",
    "                #print('-------------')\n",
    "                #print(target_row.loc[:,'1992':str(split_year-1)])\n",
    "            last_product.drop(index, inplace=True)\n",
    "    last_product.to_csv(f'{output_folder}/pollinator_{item_name}_fao.csv',index=False)"
   ]
  },
  {
   "cell_type": "code",
   "execution_count": null,
   "metadata": {},
   "outputs": [],
   "source": []
  },
  {
   "cell_type": "markdown",
   "metadata": {},
   "source": [
    "#### FAO excel export according to year\n",
    "\n",
    "We use same idea as above code. The difference between two code is last product seperated by year. Item names(Apple, Maize) are going to be column name. Also we changed the last calcualtion for seperated country."
   ]
  },
  {
   "cell_type": "code",
   "execution_count": 84,
   "metadata": {},
   "outputs": [],
   "source": [
    "output_folder='polinatior_model_from_fao_v2'\n",
    "#for i in fao_raw['Item Code'].unique():\n",
    "for y in fao_raw['Year'].unique():\n",
    "    # with this for loop, we export each product from fao excel file\n",
    "    # y means indiviual year\n",
    "    \n",
    "    #create dataframe according to year\n",
    "    byYear_target_item=fao_raw[fao_raw['Year']==y]\n",
    "    \n",
    "    #create empty dataframe\n",
    "    yearly_df=pd.DataFrame(columns=['Area Code','Area','Country'])\n",
    "    for i in byYear_target_item['Area Code'].unique():\n",
    "        # get each country stastic into dataframe\n",
    "        byCountry_target=byYear_target_item[byYear_target_item['Area Code']==i]\n",
    "        # create dataframe with country fundemental inforamtion: Area Code, Country, Area\n",
    "        target_df=byCountry_target.iloc[:1,0:3]\n",
    "        for item in byCountry_target['Item Code'].unique():\n",
    "            item_name=byCountry_target[byCountry_target['Item Code']==item].Item.values[0]\n",
    "            item_name=item_name.replace(',','_')\n",
    "            item_name=item_name.replace(' ','_')\n",
    "            item_name=item_name.replace('__','_')\n",
    "            item_df=byCountry_target[byCountry_target['Item Code']==item]\n",
    "            \n",
    "            #add year information into row\n",
    "            target_df['Year']=int(y)\n",
    "            target_df[item_name]=item_df['Value'].values[0]\n",
    "            \n",
    "        yearly_df=yearly_df.append(target_df)\n",
    "    \n",
    "    yearly_df.reset_index(inplace=True,drop=True)\n",
    "    yearly_df['Area Code']=yearly_df['Area Code'].astype('str')\n",
    "    shortName['Area Code']=shortName['Area Code'].astype('str')\n",
    "    \n",
    "        \n",
    "    # we get country short name info from shortName csv file and merge with pivot_product\n",
    "    last_product=pd.merge(shortName,yearly_df,left_on='Area Code',right_on='Area Code',how='inner')\n",
    "    # drop duplicate column and rename the Area column\n",
    "    last_product.drop(columns=['Area_y'],inplace=True)\n",
    "    last_product.drop(columns=['Country_y'],inplace=True)\n",
    "    last_product.rename(columns={'Area_x':'Area'},inplace=True)\n",
    "    last_product.rename(columns={'Country_x':'Country'},inplace=True)\n",
    "    last_product.columns=last_product.columns.astype(str)\n",
    "    \n",
    "    index_list=[]\n",
    "    for index,row in last_product.iterrows():\n",
    "        \n",
    "        #if row include seperation information code starts\n",
    "        if not pd.isna(row['Country_split_(by_area_code)']):            \n",
    "            split_by_area_code=row['Country_split_(by_area_code)'].split(',')\n",
    "            split_year=int(row['Split_Year'])\n",
    "            if int(y)<int(split_year):                          \n",
    "                percentage=row['Percentages'].split(',')\n",
    "                for index2,area_code in enumerate(split_by_area_code):\n",
    "                    pd.options.mode.chained_assignment = None \n",
    "                    target_row=shortName[shortName['Area Code']==str(area_code)]\n",
    "                    df_row=row.to_frame()\n",
    "                    for index3,value in enumerate(row[8:],8):\n",
    "                        new_value=float(row[index3])*float(percentage[index2])\n",
    "                        target_row.loc[:,'Year']=int(y)\n",
    "                        target_row.loc[:,df_row.index[index3]]=new_value\n",
    "                    \n",
    "                    # add the new row(country) into last product\n",
    "                    last_product=last_product.append(target_row)\n",
    "                index_list.append(index)    \n",
    "    #reset last product index\n",
    "    last_product=last_product.reset_index(drop=True)    \n",
    "    for drop_index in index_list:\n",
    "        last_product.drop(drop_index, inplace=True)\n",
    "    \n",
    "    last_product.to_csv(f'{output_folder}/pollinator_{str(y)}_fao.csv',index=False)\n",
    "    "
   ]
  },
  {
   "cell_type": "code",
   "execution_count": 85,
   "metadata": {},
   "outputs": [
    {
     "name": "stdout",
     "output_type": "stream",
     "text": [
      "Apples\n",
      "Melons, other (inc.cantaloupes)\n",
      "Peaches and nectarines\n",
      "Pears\n",
      "Plums and sloes\n",
      "Watermelons\n",
      "Cucumbers and gherkins\n",
      "Pumpkins, squash and gourds\n",
      "Cocoa, beans\n",
      "Mangoes, mangosteens, guavas\n",
      "Avocados\n"
     ]
    }
   ],
   "source": [
    "for u in fao_raw['Item'].unique():\n",
    "    print(u)"
   ]
  },
  {
   "cell_type": "code",
   "execution_count": 86,
   "metadata": {},
   "outputs": [
    {
     "data": {
      "text/plain": [
       "11"
      ]
     },
     "execution_count": 86,
     "metadata": {},
     "output_type": "execute_result"
    }
   ],
   "source": [
    "len(fao_raw['Item'].unique())"
   ]
  },
  {
   "cell_type": "code",
   "execution_count": null,
   "metadata": {},
   "outputs": [],
   "source": []
  }
 ],
 "metadata": {
  "kernelspec": {
   "display_name": "Python 3",
   "language": "python",
   "name": "python3"
  },
  "language_info": {
   "codemirror_mode": {
    "name": "ipython",
    "version": 3
   },
   "file_extension": ".py",
   "mimetype": "text/x-python",
   "name": "python",
   "nbconvert_exporter": "python",
   "pygments_lexer": "ipython3",
   "version": "3.8.5"
  }
 },
 "nbformat": 4,
 "nbformat_minor": 4
}
