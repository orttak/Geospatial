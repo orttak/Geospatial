{
 "cells": [
  {
   "cell_type": "code",
   "execution_count": 1,
   "metadata": {},
   "outputs": [],
   "source": [
    "import pandas as pd\n",
    "import numpy as np"
   ]
  },
  {
   "cell_type": "code",
   "execution_count": 2,
   "metadata": {},
   "outputs": [],
   "source": [
    "#main raw file which includes all Items\n",
    "fao_raw=pd.read_csv('FAOSTAT_data_producer_prices (only value data).csv')"
   ]
  },
  {
   "cell_type": "code",
   "execution_count": 3,
   "metadata": {},
   "outputs": [
    {
     "data": {
      "text/html": [
       "<div>\n",
       "<style scoped>\n",
       "    .dataframe tbody tr th:only-of-type {\n",
       "        vertical-align: middle;\n",
       "    }\n",
       "\n",
       "    .dataframe tbody tr th {\n",
       "        vertical-align: top;\n",
       "    }\n",
       "\n",
       "    .dataframe thead th {\n",
       "        text-align: right;\n",
       "    }\n",
       "</style>\n",
       "<table border=\"1\" class=\"dataframe\">\n",
       "  <thead>\n",
       "    <tr style=\"text-align: right;\">\n",
       "      <th></th>\n",
       "      <th>Domain Code</th>\n",
       "      <th>Domain</th>\n",
       "      <th>Area Code</th>\n",
       "      <th>Area</th>\n",
       "      <th>Element Code</th>\n",
       "      <th>Element</th>\n",
       "      <th>Item Code</th>\n",
       "      <th>Item</th>\n",
       "      <th>Year Code</th>\n",
       "      <th>Year</th>\n",
       "      <th>Months Code</th>\n",
       "      <th>Months</th>\n",
       "      <th>Unit</th>\n",
       "      <th>Value</th>\n",
       "    </tr>\n",
       "  </thead>\n",
       "  <tbody>\n",
       "    <tr>\n",
       "      <th>0</th>\n",
       "      <td>PP</td>\n",
       "      <td>Producer Prices</td>\n",
       "      <td>2</td>\n",
       "      <td>Afghanistan</td>\n",
       "      <td>5530</td>\n",
       "      <td>Producer Price (LCU/tonne)</td>\n",
       "      <td>515</td>\n",
       "      <td>Apples</td>\n",
       "      <td>1993</td>\n",
       "      <td>1993</td>\n",
       "      <td>7021</td>\n",
       "      <td>Annual value</td>\n",
       "      <td>LCU</td>\n",
       "      <td>6100.0</td>\n",
       "    </tr>\n",
       "    <tr>\n",
       "      <th>1</th>\n",
       "      <td>PP</td>\n",
       "      <td>Producer Prices</td>\n",
       "      <td>2</td>\n",
       "      <td>Afghanistan</td>\n",
       "      <td>5530</td>\n",
       "      <td>Producer Price (LCU/tonne)</td>\n",
       "      <td>44</td>\n",
       "      <td>Barley</td>\n",
       "      <td>1993</td>\n",
       "      <td>1993</td>\n",
       "      <td>7021</td>\n",
       "      <td>Annual value</td>\n",
       "      <td>LCU</td>\n",
       "      <td>6300.0</td>\n",
       "    </tr>\n",
       "    <tr>\n",
       "      <th>2</th>\n",
       "      <td>PP</td>\n",
       "      <td>Producer Prices</td>\n",
       "      <td>2</td>\n",
       "      <td>Afghanistan</td>\n",
       "      <td>5530</td>\n",
       "      <td>Producer Price (LCU/tonne)</td>\n",
       "      <td>56</td>\n",
       "      <td>Maize</td>\n",
       "      <td>1993</td>\n",
       "      <td>1993</td>\n",
       "      <td>7021</td>\n",
       "      <td>Annual value</td>\n",
       "      <td>LCU</td>\n",
       "      <td>16000.0</td>\n",
       "    </tr>\n",
       "    <tr>\n",
       "      <th>3</th>\n",
       "      <td>PP</td>\n",
       "      <td>Producer Prices</td>\n",
       "      <td>2</td>\n",
       "      <td>Afghanistan</td>\n",
       "      <td>5530</td>\n",
       "      <td>Producer Price (LCU/tonne)</td>\n",
       "      <td>568</td>\n",
       "      <td>Melons, other (inc.cantaloupes)</td>\n",
       "      <td>1993</td>\n",
       "      <td>1993</td>\n",
       "      <td>7021</td>\n",
       "      <td>Annual value</td>\n",
       "      <td>LCU</td>\n",
       "      <td>19000.0</td>\n",
       "    </tr>\n",
       "    <tr>\n",
       "      <th>4</th>\n",
       "      <td>PP</td>\n",
       "      <td>Producer Prices</td>\n",
       "      <td>2</td>\n",
       "      <td>Afghanistan</td>\n",
       "      <td>5530</td>\n",
       "      <td>Producer Price (LCU/tonne)</td>\n",
       "      <td>116</td>\n",
       "      <td>Potatoes</td>\n",
       "      <td>1993</td>\n",
       "      <td>1993</td>\n",
       "      <td>7021</td>\n",
       "      <td>Annual value</td>\n",
       "      <td>LCU</td>\n",
       "      <td>2800.0</td>\n",
       "    </tr>\n",
       "  </tbody>\n",
       "</table>\n",
       "</div>"
      ],
      "text/plain": [
       "  Domain Code           Domain  Area Code         Area  Element Code  \\\n",
       "0          PP  Producer Prices          2  Afghanistan          5530   \n",
       "1          PP  Producer Prices          2  Afghanistan          5530   \n",
       "2          PP  Producer Prices          2  Afghanistan          5530   \n",
       "3          PP  Producer Prices          2  Afghanistan          5530   \n",
       "4          PP  Producer Prices          2  Afghanistan          5530   \n",
       "\n",
       "                      Element  Item Code                             Item  \\\n",
       "0  Producer Price (LCU/tonne)        515                           Apples   \n",
       "1  Producer Price (LCU/tonne)         44                           Barley   \n",
       "2  Producer Price (LCU/tonne)         56                            Maize   \n",
       "3  Producer Price (LCU/tonne)        568  Melons, other (inc.cantaloupes)   \n",
       "4  Producer Price (LCU/tonne)        116                         Potatoes   \n",
       "\n",
       "   Year Code  Year  Months Code        Months Unit    Value  \n",
       "0       1993  1993         7021  Annual value  LCU   6100.0  \n",
       "1       1993  1993         7021  Annual value  LCU   6300.0  \n",
       "2       1993  1993         7021  Annual value  LCU  16000.0  \n",
       "3       1993  1993         7021  Annual value  LCU  19000.0  \n",
       "4       1993  1993         7021  Annual value  LCU   2800.0  "
      ]
     },
     "execution_count": 3,
     "metadata": {},
     "output_type": "execute_result"
    }
   ],
   "source": [
    "fao_raw.head()"
   ]
  },
  {
   "cell_type": "code",
   "execution_count": 4,
   "metadata": {},
   "outputs": [
    {
     "data": {
      "text/plain": [
       "148619"
      ]
     },
     "execution_count": 4,
     "metadata": {},
     "output_type": "execute_result"
    }
   ],
   "source": [
    "len(fao_raw)"
   ]
  },
  {
   "cell_type": "code",
   "execution_count": 5,
   "metadata": {},
   "outputs": [],
   "source": [
    "#delete LCL value\n",
    "fao_raw=fao_raw[fao_raw['Unit']!='LCU']"
   ]
  },
  {
   "cell_type": "code",
   "execution_count": 6,
   "metadata": {},
   "outputs": [
    {
     "data": {
      "text/plain": [
       "114253"
      ]
     },
     "execution_count": 6,
     "metadata": {},
     "output_type": "execute_result"
    }
   ],
   "source": [
    "len(fao_raw)"
   ]
  },
  {
   "cell_type": "code",
   "execution_count": 7,
   "metadata": {},
   "outputs": [
    {
     "data": {
      "text/plain": [
       "112452"
      ]
     },
     "execution_count": 7,
     "metadata": {},
     "output_type": "execute_result"
    }
   ],
   "source": [
    "#delete Maize, Green value\n",
    "fao_raw=fao_raw[fao_raw['Item Code']!=446]\n",
    "len(fao_raw)"
   ]
  },
  {
   "cell_type": "code",
   "execution_count": 16,
   "metadata": {},
   "outputs": [
    {
     "data": {
      "text/html": [
       "<div>\n",
       "<style scoped>\n",
       "    .dataframe tbody tr th:only-of-type {\n",
       "        vertical-align: middle;\n",
       "    }\n",
       "\n",
       "    .dataframe tbody tr th {\n",
       "        vertical-align: top;\n",
       "    }\n",
       "\n",
       "    .dataframe thead th {\n",
       "        text-align: right;\n",
       "    }\n",
       "</style>\n",
       "<table border=\"1\" class=\"dataframe\">\n",
       "  <thead>\n",
       "    <tr style=\"text-align: right;\">\n",
       "      <th></th>\n",
       "      <th>Domain Code</th>\n",
       "      <th>Domain</th>\n",
       "      <th>Area Code</th>\n",
       "      <th>Area</th>\n",
       "      <th>Element Code</th>\n",
       "      <th>Element</th>\n",
       "      <th>Item Code</th>\n",
       "      <th>Item</th>\n",
       "      <th>Year Code</th>\n",
       "      <th>Year</th>\n",
       "      <th>Months Code</th>\n",
       "      <th>Months</th>\n",
       "      <th>Unit</th>\n",
       "      <th>Value</th>\n",
       "    </tr>\n",
       "  </thead>\n",
       "  <tbody>\n",
       "    <tr>\n",
       "      <th>126</th>\n",
       "      <td>PP</td>\n",
       "      <td>Producer Prices</td>\n",
       "      <td>2</td>\n",
       "      <td>Afghanistan</td>\n",
       "      <td>5531</td>\n",
       "      <td>Producer Price (SLC/tonne)</td>\n",
       "      <td>515</td>\n",
       "      <td>Apples</td>\n",
       "      <td>1993</td>\n",
       "      <td>1993</td>\n",
       "      <td>7021</td>\n",
       "      <td>Annual value</td>\n",
       "      <td>SLC</td>\n",
       "      <td>6100.0</td>\n",
       "    </tr>\n",
       "    <tr>\n",
       "      <th>127</th>\n",
       "      <td>PP</td>\n",
       "      <td>Producer Prices</td>\n",
       "      <td>2</td>\n",
       "      <td>Afghanistan</td>\n",
       "      <td>5531</td>\n",
       "      <td>Producer Price (SLC/tonne)</td>\n",
       "      <td>44</td>\n",
       "      <td>Barley</td>\n",
       "      <td>1993</td>\n",
       "      <td>1993</td>\n",
       "      <td>7021</td>\n",
       "      <td>Annual value</td>\n",
       "      <td>SLC</td>\n",
       "      <td>6300.0</td>\n",
       "    </tr>\n",
       "    <tr>\n",
       "      <th>128</th>\n",
       "      <td>PP</td>\n",
       "      <td>Producer Prices</td>\n",
       "      <td>2</td>\n",
       "      <td>Afghanistan</td>\n",
       "      <td>5531</td>\n",
       "      <td>Producer Price (SLC/tonne)</td>\n",
       "      <td>56</td>\n",
       "      <td>Maize</td>\n",
       "      <td>1993</td>\n",
       "      <td>1993</td>\n",
       "      <td>7021</td>\n",
       "      <td>Annual value</td>\n",
       "      <td>SLC</td>\n",
       "      <td>16000.0</td>\n",
       "    </tr>\n",
       "    <tr>\n",
       "      <th>129</th>\n",
       "      <td>PP</td>\n",
       "      <td>Producer Prices</td>\n",
       "      <td>2</td>\n",
       "      <td>Afghanistan</td>\n",
       "      <td>5531</td>\n",
       "      <td>Producer Price (SLC/tonne)</td>\n",
       "      <td>568</td>\n",
       "      <td>Melons, other (inc.cantaloupes)</td>\n",
       "      <td>1993</td>\n",
       "      <td>1993</td>\n",
       "      <td>7021</td>\n",
       "      <td>Annual value</td>\n",
       "      <td>SLC</td>\n",
       "      <td>19000.0</td>\n",
       "    </tr>\n",
       "    <tr>\n",
       "      <th>130</th>\n",
       "      <td>PP</td>\n",
       "      <td>Producer Prices</td>\n",
       "      <td>2</td>\n",
       "      <td>Afghanistan</td>\n",
       "      <td>5531</td>\n",
       "      <td>Producer Price (SLC/tonne)</td>\n",
       "      <td>116</td>\n",
       "      <td>Potatoes</td>\n",
       "      <td>1993</td>\n",
       "      <td>1993</td>\n",
       "      <td>7021</td>\n",
       "      <td>Annual value</td>\n",
       "      <td>SLC</td>\n",
       "      <td>2800.0</td>\n",
       "    </tr>\n",
       "  </tbody>\n",
       "</table>\n",
       "</div>"
      ],
      "text/plain": [
       "    Domain Code           Domain  Area Code         Area  Element Code  \\\n",
       "126          PP  Producer Prices          2  Afghanistan          5531   \n",
       "127          PP  Producer Prices          2  Afghanistan          5531   \n",
       "128          PP  Producer Prices          2  Afghanistan          5531   \n",
       "129          PP  Producer Prices          2  Afghanistan          5531   \n",
       "130          PP  Producer Prices          2  Afghanistan          5531   \n",
       "\n",
       "                        Element  Item Code                             Item  \\\n",
       "126  Producer Price (SLC/tonne)        515                           Apples   \n",
       "127  Producer Price (SLC/tonne)         44                           Barley   \n",
       "128  Producer Price (SLC/tonne)         56                            Maize   \n",
       "129  Producer Price (SLC/tonne)        568  Melons, other (inc.cantaloupes)   \n",
       "130  Producer Price (SLC/tonne)        116                         Potatoes   \n",
       "\n",
       "     Year Code  Year  Months Code        Months Unit    Value  \n",
       "126       1993  1993         7021  Annual value  SLC   6100.0  \n",
       "127       1993  1993         7021  Annual value  SLC   6300.0  \n",
       "128       1993  1993         7021  Annual value  SLC  16000.0  \n",
       "129       1993  1993         7021  Annual value  SLC  19000.0  \n",
       "130       1993  1993         7021  Annual value  SLC   2800.0  "
      ]
     },
     "execution_count": 16,
     "metadata": {},
     "output_type": "execute_result"
    }
   ],
   "source": [
    "fao_raw.head()"
   ]
  },
  {
   "cell_type": "code",
   "execution_count": 8,
   "metadata": {},
   "outputs": [
    {
     "data": {
      "text/plain": [
       "23"
      ]
     },
     "execution_count": 8,
     "metadata": {},
     "output_type": "execute_result"
    }
   ],
   "source": [
    "len(fao_raw['Item'].unique())"
   ]
  },
  {
   "cell_type": "code",
   "execution_count": 9,
   "metadata": {},
   "outputs": [],
   "source": [
    "#shortName=pd.read_csv('fao/country_shortname_V1.csv',usecols=[0, 1,2])\n",
    "shortName=pd.read_excel('fao/country_short_name_with_percantege.xlsx',usecols=[0,1,2,6,7,8,9])"
   ]
  },
  {
   "cell_type": "code",
   "execution_count": 160,
   "metadata": {
    "collapsed": true,
    "jupyter": {
     "outputs_hidden": true
    }
   },
   "outputs": [
    {
     "name": "stdout",
     "output_type": "stream",
     "text": [
      "Apples\n",
      "Barley\n",
      "Maize\n",
      "Melons, other (inc.cantaloupes)\n",
      "Potatoes\n",
      "Rice, paddy\n",
      "Wheat\n",
      "Watermelons\n",
      "Peaches and nectarines\n",
      "Pears\n",
      "Plums and sloes\n",
      "Sugar cane\n",
      "Sunflower seed\n",
      "Rye\n",
      "Soybeans\n",
      "Cucumbers and gherkins\n",
      "Pumpkins, squash and gourds\n",
      "Sugar beet\n",
      "Rapeseed\n",
      "Avocados\n",
      "Mangoes, mangosteens, guavas\n",
      "Cocoa, beans\n",
      "Oil, palm\n"
     ]
    }
   ],
   "source": [
    "for u in fao_raw['Item'].unique():\n",
    "    print(u)"
   ]
  },
  {
   "cell_type": "code",
   "execution_count": 99,
   "metadata": {},
   "outputs": [],
   "source": [
    "################### ITEM LIST FOR EMPTY DATAFRAME ##########################\n",
    "item_list=[]\n",
    "for item in fao_raw['Item'].unique():    \n",
    "    item_name=item\n",
    "    item_name=item_name.replace(',','_')\n",
    "    item_name=item_name.replace(' ','_')\n",
    "    item_name=item_name.replace('__','_')\n",
    "    #new_name=item_name.split('_')[0:2]\n",
    "    #item_name='_'.join(new_name)\n",
    "    if item_name[0:8].split('_')[0]=='Sugar':\n",
    "        item_name=item_name[0:7]\n",
    "    else:\n",
    "        item_name=item_name[0:8].split('_')[0]\n",
    "    item_list.append(item_name+'_i')\n",
    "    item_list.append(item_name+'_s')\n",
    "    item_list.append(item_name+'_u')"
   ]
  },
  {
   "cell_type": "code",
   "execution_count": 101,
   "metadata": {},
   "outputs": [],
   "source": [
    "output_folder='fao_price'\n",
    "#for i in fao_raw['Item Code'].unique():\n",
    "for y in fao_raw['Year'].unique():\n",
    "    # with this for loop, we export each product from fao excel file\n",
    "    # y means indiviual year\n",
    "    \n",
    "    #create dataframe according to year\n",
    "    byYear_target_item=fao_raw[fao_raw['Year']==y]    \n",
    "    #create empty dataframe for year dataframe \n",
    "    header_list=['Domain Code','Domain','Area Code','Area','Element Code','Element']\n",
    "    # we use item list, we create three column for each product. for SLC, USD and index value\n",
    "    yearly_df=pd.DataFrame(columns=header_list+item_list)\n",
    "    for i in byYear_target_item['Area Code'].unique():\n",
    "        # get each country stastic into dataframe\n",
    "        byCountry_target=byYear_target_item[byYear_target_item['Area Code']==i]\n",
    "        country_df=pd.DataFrame(columns=header_list)\n",
    "\n",
    "        for u in byCountry_target['Unit'].unique():\n",
    "            byUnit=byCountry_target[byCountry_target['Unit']==u]\n",
    "            # create dataframe with country fundemental inforamtion: Area Code, Country, Area\n",
    "            target_df=byCountry_target.iloc[:1,0:6]\n",
    "            #target_df=target_df.reindex(columns=header_list+item_list,copy=False)\n",
    "            #add year information into row\n",
    "            target_df['Year']=int(y)   \n",
    "            for item in byUnit['Item Code'].unique():\n",
    "                item_name=byCountry_target[byCountry_target['Item Code']==item].Item.values[0]\n",
    "                item_name=item_name.replace(',','_')\n",
    "                item_name=item_name.replace(' ','_')\n",
    "                item_name=item_name.replace('__','_')\n",
    "                if item_name[0:8].split('_')[0]=='Sugar':\n",
    "                    item_name=item_name[0:7]\n",
    "                else:\n",
    "                    item_name=item_name[0:8].split('_')[0]\n",
    "                \n",
    "                if type(u) ==np.float:\n",
    "                    item_name=item_name+'_i'\n",
    "                elif u=='SLC':\n",
    "                    item_name=item_name+'_s'\n",
    "                else:\n",
    "                    item_name=item_name+'_u'\n",
    "                    \n",
    "                item_df=byCountry_target[byCountry_target['Item Code']==item]\n",
    "            \n",
    "\n",
    "                target_df[item_name]=item_df['Value'].values[0]\n",
    "                \n",
    "            country_df=country_df.append(target_df)\n",
    "        # pivot table for each country\n",
    "        piv_country=country_df.pivot_table(index=['Domain Code','Domain','Area Code','Area','Element Code','Element'])\n",
    "        piv_country=piv_country.reset_index()\n",
    "        piv_country=piv_country.reindex(columns=header_list+item_list,copy=False)\n",
    "        yearly_df=yearly_df.append(piv_country)\n",
    "        #yearly_df=yearly_df.reindex(columns=header_list+item_list,copy=False)\n",
    "        yearly_df.reset_index(inplace=True,drop=True)\n",
    "        yearly_df['Area Code']=yearly_df['Area Code'].astype('str')\n",
    "        shortName['Area Code']=shortName['Area Code'].astype('str')\n",
    "    \n",
    "\n",
    "        # we get country short name info from shortName csv file and merge with pivot_product\n",
    "        last_product=pd.merge(shortName,yearly_df,left_on='Area Code',right_on='Area Code',how='inner')\n",
    "        # drop duplicate column and rename the Area column\n",
    "        last_product.drop(columns=['Area_y'],inplace=True)\n",
    "        #last_product.drop(columns=['Country_y'],inplace=True)\n",
    "        last_product.rename(columns={'Area_x':'Area'},inplace=True)\n",
    "        #last_product.rename(columns={'Country_x':'Country'},inplace=True)\n",
    "        last_product.columns=last_product.columns.astype(str)\n",
    "        \n",
    "        index_list=[]\n",
    "        for index,row in last_product.iterrows():\n",
    "            #if row include seperation information code starts\n",
    "            if not pd.isna(row['Country_split_(by_area_code)']):            \n",
    "                split_by_area_code=row['Country_split_(by_area_code)'].split(',')\n",
    "                split_year=int(row['Split_Year'])\n",
    "                #print(split_by_area_code)\n",
    "                if int(y)<int(split_year):                                             \n",
    "                    for index2,area_code in enumerate(split_by_area_code):                        \n",
    "                        pd.options.mode.chained_assignment = None \n",
    "                        target_row=shortName[shortName['Area Code']==str(area_code)]\n",
    "                        df_row=row.to_frame()\n",
    "                        for index3,value in enumerate(row[11:],11):\n",
    "                            #print(area_code)\n",
    "                            new_value=float(row[index3])\n",
    "                            target_row.loc[:,'Year']=int(y)\n",
    "                            target_row.loc[:,df_row.index[index3]]=new_value\n",
    "                        \n",
    "                        # add the new row(country) into last product\n",
    "                        target_row=target_row.reindex(columns=list(last_product.columns),copy=False)\n",
    "                        last_product=last_product.append(target_row)\n",
    "                    index_list.append(index)    \n",
    "        #reset last product index\n",
    "        last_product=last_product.reset_index(drop=True)    \n",
    "        for drop_index in index_list:\n",
    "            last_product.drop(drop_index, inplace=True)\n",
    "              \n",
    "    \n",
    "               \n",
    "    last_product.to_csv(f'{output_folder}/fao_price_{str(y)}.csv',index=False)\n",
    "    \n",
    "    \n",
    "    "
   ]
  },
  {
   "cell_type": "code",
   "execution_count": 102,
   "metadata": {},
   "outputs": [
    {
     "data": {
      "text/plain": [
       "Index(['Area', 'Country', 'Area Code', 'Split_Year', 'What_happened',\n",
       "       'Country_split_(by_area_code)', 'Percentages', 'Domain Code', 'Domain',\n",
       "       'Element Code', 'Element', 'Apples_i', 'Apples_s', 'Apples_u',\n",
       "       'Barley_i', 'Barley_s', 'Barley_u', 'Maize_i', 'Maize_s', 'Maize_u',\n",
       "       'Melons_i', 'Melons_s', 'Melons_u', 'Potatoes_i', 'Potatoes_s',\n",
       "       'Potatoes_u', 'Rice_i', 'Rice_s', 'Rice_u', 'Wheat_i', 'Wheat_s',\n",
       "       'Wheat_u', 'Watermel_i', 'Watermel_s', 'Watermel_u', 'Peaches_i',\n",
       "       'Peaches_s', 'Peaches_u', 'Pears_i', 'Pears_s', 'Pears_u', 'Plums_i',\n",
       "       'Plums_s', 'Plums_u', 'Sugar_c_i', 'Sugar_c_s', 'Sugar_c_u',\n",
       "       'Sunflowe_i', 'Sunflowe_s', 'Sunflowe_u', 'Rye_i', 'Rye_s', 'Rye_u',\n",
       "       'Soybeans_i', 'Soybeans_s', 'Soybeans_u', 'Cucumber_i', 'Cucumber_s',\n",
       "       'Cucumber_u', 'Pumpkins_i', 'Pumpkins_s', 'Pumpkins_u', 'Sugar_b_i',\n",
       "       'Sugar_b_s', 'Sugar_b_u', 'Rapeseed_i', 'Rapeseed_s', 'Rapeseed_u',\n",
       "       'Avocados_i', 'Avocados_s', 'Avocados_u', 'Mangoes_i', 'Mangoes_s',\n",
       "       'Mangoes_u', 'Cocoa_i', 'Cocoa_s', 'Cocoa_u', 'Oil_i', 'Oil_s',\n",
       "       'Oil_u'],\n",
       "      dtype='object')"
      ]
     },
     "execution_count": 102,
     "metadata": {},
     "output_type": "execute_result"
    }
   ],
   "source": [
    "last_product.columns"
   ]
  },
  {
   "cell_type": "code",
   "execution_count": 96,
   "metadata": {},
   "outputs": [],
   "source": [
    "a=['Sugar_beet','Sugar_cane']"
   ]
  },
  {
   "cell_type": "code",
   "execution_count": 98,
   "metadata": {},
   "outputs": [
    {
     "data": {
      "text/plain": [
       "'Sugar_b'"
      ]
     },
     "execution_count": 98,
     "metadata": {},
     "output_type": "execute_result"
    }
   ],
   "source": [
    "a[0][0:7]"
   ]
  },
  {
   "cell_type": "code",
   "execution_count": null,
   "metadata": {},
   "outputs": [],
   "source": [
    "item_name=item_name[0:8].split('_')[0]\n"
   ]
  }
 ],
 "metadata": {
  "kernelspec": {
   "display_name": "Python 3",
   "language": "python",
   "name": "python3"
  },
  "language_info": {
   "codemirror_mode": {
    "name": "ipython",
    "version": 3
   },
   "file_extension": ".py",
   "mimetype": "text/x-python",
   "name": "python",
   "nbconvert_exporter": "python",
   "pygments_lexer": "ipython3",
   "version": "3.8.5"
  }
 },
 "nbformat": 4,
 "nbformat_minor": 4
}
