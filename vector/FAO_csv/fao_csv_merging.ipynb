{
 "cells": [
  {
   "cell_type": "code",
   "execution_count": 1,
   "metadata": {},
   "outputs": [],
   "source": [
    "import pandas as pd\n",
    "import glob\n",
    "import geopandas as gpd"
   ]
  },
  {
   "cell_type": "code",
   "execution_count": 65,
   "metadata": {},
   "outputs": [],
   "source": [
    "raw_countries=gpd.read_file('fao/shp_from_un/BNDA25_CTY.shp')"
   ]
  },
  {
   "cell_type": "code",
   "execution_count": 2,
   "metadata": {},
   "outputs": [
    {
     "data": {
      "text/plain": [
       "27"
      ]
     },
     "execution_count": 2,
     "metadata": {},
     "output_type": "execute_result"
    }
   ],
   "source": [
    "crops_list=glob.glob('crop_model_from_fao_v2/*csv')\n",
    "crops_list=sorted(crops_list)\n",
    "len(crops_list)"
   ]
  },
  {
   "cell_type": "code",
   "execution_count": 133,
   "metadata": {},
   "outputs": [
    {
     "data": {
      "text/plain": [
       "27"
      ]
     },
     "execution_count": 133,
     "metadata": {},
     "output_type": "execute_result"
    }
   ],
   "source": [
    "polination_list=glob.glob('polinatior_model_from_fao_v2/*csv')\n",
    "polination_list=sorted(polination_list)\n",
    "len(polination_list)"
   ]
  },
  {
   "cell_type": "code",
   "execution_count": 134,
   "metadata": {},
   "outputs": [
    {
     "data": {
      "text/plain": [
       "28"
      ]
     },
     "execution_count": 134,
     "metadata": {},
     "output_type": "execute_result"
    }
   ],
   "source": [
    "price_list=glob.glob('fao_price/*csv')\n",
    "price_list=sorted(price_list)\n",
    "len(price_list)"
   ]
  },
  {
   "cell_type": "code",
   "execution_count": 135,
   "metadata": {},
   "outputs": [],
   "source": [
    "#drop 1991 data\n",
    "price_list=price_list[1:]"
   ]
  },
  {
   "cell_type": "code",
   "execution_count": 137,
   "metadata": {},
   "outputs": [],
   "source": [
    "for index,p in enumerate(price_list):\n",
    "    # read 3 target csv\n",
    "    price_df=pd.read_csv(p)\n",
    "    crop_df=pd.read_csv(crops_list[index])\n",
    "    polination_df=pd.read_csv(polination_list[index])\n",
    "    #first we merge crop and pollination csv\n",
    "    m=pd.merge(crop_df,polination_df,how='left',right_on='Country',left_on='Country')\n",
    "    #drop columns\n",
    "    m.drop(['Split_Year_x', 'What_happened_x',\n",
    "            'Country_split_(by_area_code)_x', 'Percentages_x','Area_y', 'Area Code_y', 'Split_Year_y',\n",
    "            'What_happened_y', 'Country_split_(by_area_code)_y', 'Percentages_y','Year_y'],axis=1,inplace=True)\n",
    "    #merge price csv with first merged csv\n",
    "    m2=pd.merge(m,price_df,how='left',right_on='Country',left_on='Country')\n",
    "    #drop columns\n",
    "    m2.drop(['Area', 'Area Code', 'Split_Year', 'What_happened',\n",
    "             'Country_split_(by_area_code)', 'Percentages', 'Domain Code', 'Domain',\n",
    "             'Element Code', 'Element'],axis=1,inplace=True)\n",
    "    # name fixing\n",
    "    m2.rename(columns={'Area_x':'Area'},inplace=True)\n",
    "    m2.rename(columns={'Area Code_x':'Area_Code'},inplace=True)\n",
    "    m2.rename(columns={'Year_x':'Year'},inplace=True)\n",
    "    # merge with shp UN shp file\n",
    "    den=pd.merge(raw_countries,m2,how='left', left_on='ISO3CD', right_on='Country')\n",
    "    year_info=p.split('_')[-1].split('.')[0]\n",
    "    #export data as a shp file\n",
    "    den.to_file(f'fao_merge_crop_poll_price/fao_merged_{year_info}.shp',driver='ESRI Shapefile')"
   ]
  },
  {
   "cell_type": "code",
   "execution_count": null,
   "metadata": {},
   "outputs": [],
   "source": []
  }
 ],
 "metadata": {
  "kernelspec": {
   "display_name": "Python 3",
   "language": "python",
   "name": "python3"
  },
  "language_info": {
   "codemirror_mode": {
    "name": "ipython",
    "version": 3
   },
   "file_extension": ".py",
   "mimetype": "text/x-python",
   "name": "python",
   "nbconvert_exporter": "python",
   "pygments_lexer": "ipython3",
   "version": "3.8.5"
  }
 },
 "nbformat": 4,
 "nbformat_minor": 4
}
