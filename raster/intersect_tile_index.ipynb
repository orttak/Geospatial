{
 "cells": [
  {
   "cell_type": "code",
   "execution_count": null,
   "metadata": {},
   "outputs": [],
   "source": [
    "import geopandas  as gpd\n",
    "import os\n",
    "import glob\n",
    "import shutil"
   ]
  },
  {
   "cell_type": "markdown",
   "metadata": {},
   "source": [
    "we use this notebook to find target country tiles in tile_index shapefile\n"
   ]
  },
  {
   "cell_type": "code",
   "execution_count": null,
   "metadata": {},
   "outputs": [],
   "source": [
    "world_tile=gpd.read_file('../data/world_shp/world_tile_index_10_10_1km.shp')\n",
    "geom_tile=world_tile.geometry"
   ]
  },
  {
   "cell_type": "code",
   "execution_count": null,
   "metadata": {},
   "outputs": [],
   "source": [
    "world_shp=gpd.read_file('../data/world_shp/countries_border.shp')"
   ]
  },
  {
   "cell_type": "code",
   "execution_count": null,
   "metadata": {},
   "outputs": [],
   "source": [
    "world_shp.head()"
   ]
  },
  {
   "cell_type": "markdown",
   "metadata": {},
   "source": [
    "#### Select your target country"
   ]
  },
  {
   "cell_type": "code",
   "execution_count": null,
   "metadata": {},
   "outputs": [],
   "source": [
    "#write first letter of country's name\n",
    "world_shp[world_shp.NAME_0.str.startswith('Indi')]"
   ]
  },
  {
   "cell_type": "code",
   "execution_count": null,
   "metadata": {},
   "outputs": [],
   "source": [
    "# wrtie your targer GID_O name \n",
    "target_country=world_shp[world_shp.GID_0=='IND']\n",
    "geom_target=target_country.geometry"
   ]
  },
  {
   "cell_type": "code",
   "execution_count": null,
   "metadata": {},
   "outputs": [],
   "source": [
    "intersect_list=[]\n",
    "for i in range(len(geom_tile)):\n",
    "    #geopandas intersect process\n",
    "    intersect=geom_target.intersects(geom_tile[i])\n",
    "    for j in intersect:\n",
    "        if j==True:\n",
    "            # if shp intersect with your target area\n",
    "            # we write the name of tif file into list\n",
    "            intersect_list.append(world_tile.iloc[i].location)\n",
    "    "
   ]
  },
  {
   "cell_type": "code",
   "execution_count": null,
   "metadata": {},
   "outputs": [],
   "source": [
    "print(len(intersect_list))\n",
    "intersect_list[0]"
   ]
  },
  {
   "cell_type": "code",
   "execution_count": null,
   "metadata": {},
   "outputs": [],
   "source": [
    "#create destination folder\n",
    "os.mkdir('../data/world_shp/india')"
   ]
  },
  {
   "cell_type": "code",
   "execution_count": null,
   "metadata": {},
   "outputs": [],
   "source": [
    "dest='../data/world_shp/india'\n",
    "for tif in intersect_list:\n",
    "    # we use name of the .tif file to find target .shp file\n",
    "    shutil.copy(tif,dest)\n",
    "    "
   ]
  },
  {
   "cell_type": "code",
   "execution_count": null,
   "metadata": {},
   "outputs": [],
   "source": [
    "dest='../data/world_shp/netherlands'\n",
    "for shp in intersect_list:\n",
    "    # we use name of the .tif file to find target .shp file\n",
    "    shpname=os.path.basename(shp)[:-4]\n",
    "    shp_list=glob.glob(f'../data/world_shp/countries_256_256_1km_recalc_shp/{shpname}*')\n",
    "    for i in shp_list:\n",
    "        shutil.copy(i,dest)\n",
    "    "
   ]
  },
  {
   "cell_type": "code",
   "execution_count": null,
   "metadata": {},
   "outputs": [],
   "source": []
  },
  {
   "cell_type": "code",
   "execution_count": null,
   "metadata": {},
   "outputs": [],
   "source": []
  }
 ],
 "metadata": {
  "kernelspec": {
   "display_name": "Python 3",
   "language": "python",
   "name": "python3"
  },
  "language_info": {
   "codemirror_mode": {
    "name": "ipython",
    "version": 3
   },
   "file_extension": ".py",
   "mimetype": "text/x-python",
   "name": "python",
   "nbconvert_exporter": "python",
   "pygments_lexer": "ipython3",
   "version": "3.6.9"
  }
 },
 "nbformat": 4,
 "nbformat_minor": 4
}
