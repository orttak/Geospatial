{
 "cells": [
  {
   "cell_type": "code",
   "execution_count": 1,
   "metadata": {},
   "outputs": [],
   "source": [
    "import gdal\n",
    "import glob"
   ]
  },
  {
   "cell_type": "code",
   "execution_count": 5,
   "metadata": {},
   "outputs": [
    {
     "data": {
      "text/plain": [
       "12610"
      ]
     },
     "execution_count": 5,
     "metadata": {},
     "output_type": "execute_result"
    }
   ],
   "source": [
    "tif_path='../data/Modis_Fire_Date/max_tif_tiles/2001/'\n",
    "tif_list=glob.glob(tif_path+'*.tif')\n",
    "len(tif_list)"
   ]
  },
  {
   "cell_type": "code",
   "execution_count": 6,
   "metadata": {},
   "outputs": [
    {
     "data": {
      "text/plain": [
       "'max_tif_tiles_mosaic_list.txt'"
      ]
     },
     "execution_count": 6,
     "metadata": {},
     "output_type": "execute_result"
    }
   ],
   "source": [
    "txt_name=str(tif_path.split('/')[-2])+'_mosaic_list.txt'\n",
    "txt_name"
   ]
  },
  {
   "cell_type": "code",
   "execution_count": null,
   "metadata": {},
   "outputs": [],
   "source": [
    "\n",
    "with open(txt_name, 'w') as f:\n",
    "    for item in tif_list[0]:\n",
    "        f.write(\"%s\\n\" % item)\n",
    "try:\n",
    "    os.mkdir(download_path)\n",
    "except:\n",
    "    pass\n",
    "mosaic_tif_name=download_path+'modis_MCD64A1_burned_area_'+str(tif_path.split('/')[-2])+'.tif'    \n",
    "# be careful when you define NODATA or DATA TYPE \n",
    "command = \"gdal_merge.py -init -32768 -a_nodata -32768 -ot Int16 -of GTiff -o %s --optfile %s\" % (mosaic_tif_name, txt_name)\n",
    "# Run the command. os.system() returns value zero if the command was executed succesfully\n",
    "os.system(command)"
   ]
  },
  {
   "cell_type": "code",
   "execution_count": null,
   "metadata": {},
   "outputs": [],
   "source": []
  },
  {
   "cell_type": "code",
   "execution_count": null,
   "metadata": {},
   "outputs": [],
   "source": []
  }
 ],
 "metadata": {
  "kernelspec": {
   "display_name": "Python 3",
   "language": "python",
   "name": "python3"
  },
  "language_info": {
   "codemirror_mode": {
    "name": "ipython",
    "version": 3
   },
   "file_extension": ".py",
   "mimetype": "text/x-python",
   "name": "python",
   "nbconvert_exporter": "python",
   "pygments_lexer": "ipython3",
   "version": "3.6.9"
  }
 },
 "nbformat": 4,
 "nbformat_minor": 4
}
