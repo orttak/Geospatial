{
 "cells": [
  {
   "cell_type": "code",
   "execution_count": 1,
   "metadata": {},
   "outputs": [],
   "source": [
    "%matplotlib inline\n",
    "from osgeo import gdal,ogr\n",
    "import pandas as pd\n",
    "import geopandas\n",
    "from shapely import wkt"
   ]
  },
  {
   "cell_type": "code",
   "execution_count": null,
   "metadata": {},
   "outputs": [],
   "source": [
    "def ListofExtensionAndName(directory,extension):\n",
    "     \n",
    "        if len(directory) != None:\n",
    "            import os\n",
    "            FilesList = []\n",
    "            FileName=[]\n",
    "            for root, subdirectory, files in os.walk(directory):\n",
    "                for file in files:\n",
    "                    if file.endswith(extension):\n",
    "                        FilesList.append(os.path.join(root,file))\n",
    "                        base=os.path.basename(file)\n",
    "                        FileName.append(os.path.splitext(base)[0])\n",
    "\n",
    "            return FilesList,FileName\n",
    "        else:\n",
    "            print(\"no\"+ extension +\"file for this directory\")"
   ]
  },
  {
   "cell_type": "code",
   "execution_count": null,
   "metadata": {},
   "outputs": [],
   "source": [
    "def ImageBoundry(FilePath):\n",
    "\n",
    "        from osgeo import gdal,ogr\n",
    "        ds = gdal.Open(FilePath)\n",
    "        gt = ds.GetGeoTransform()  # captures origin and pixel size\n",
    "\n",
    "        ULC = gdal.ApplyGeoTransform(gt, 0, 0) #Upper Left Corner\n",
    "        URC = gdal.ApplyGeoTransform(gt, ds.RasterXSize, 0) #Upper Right Corner\n",
    "        LLC = gdal.ApplyGeoTransform(gt, 0, ds.RasterYSize) #Lower Left Corner\n",
    "        LRC = gdal.ApplyGeoTransform(gt, ds.RasterXSize, ds.RasterYSize) #Lower Right Corner\n",
    "                   \n",
    "        ring = ogr.Geometry(ogr.wkbLinearRing)\n",
    "        ring.AddPoint_2D(ULC[0], ULC[1])\n",
    "        ring.AddPoint_2D(URC[0], URC[1])\n",
    "        ring.AddPoint_2D(LRC[0], LRC[1])\n",
    "        ring.AddPoint_2D(LLC[0], LLC[1])\n",
    "        ring.AddPoint_2D(ULC[0], ULC[1]) \n",
    "        poly=ogr.Geometry(ogr.wkbPolygon)\n",
    "        poly.AddGeometry(ring)\n",
    "        poly.ExportToJson\n",
    "        return poly.ExportToJson()"
   ]
  },
  {
   "cell_type": "code",
   "execution_count": null,
   "metadata": {},
   "outputs": [],
   "source": [
    "countries=geopandas.read_file('countries.shp')\n",
    "geom_country=countries.geometry"
   ]
  },
  {
   "cell_type": "code",
   "execution_count": null,
   "metadata": {},
   "outputs": [],
   "source": [
    "ImageList=ListofExtensionAndName(r\"data/target_image\",\".bil\")\n",
    "geom_country=countries.geometry\n"
   ]
  },
  {
   "cell_type": "code",
   "execution_count": null,
   "metadata": {},
   "outputs": [],
   "source": [
    "for index,img in enumerate(ImageList[0],0):\n",
    "    ImageBoundry_result=ImageBoundry(ImageList[0][index])\n",
    "    gdf = geopandas.read_file(ImageBoundry_result)\n",
    "    geom_gdf=gdf.geometry\n",
    "    for i in range(len(geom_country)):\n",
    "        intersect4=geom_gdf.intersects(geom_country[i])\n",
    "        for i in intersect4:\n",
    "            if i==True:\n",
    "                targetimg = gdal.Open(img)\n",
    "                outputname=r\"data/\"+ImageList[1][index] +\".tif\"\n",
    "                outputimg = gdal.Translate( outputname,targetimg)\n",
    "                "
   ]
  },
  {
   "cell_type": "markdown",
   "metadata": {},
   "source": [
    "## intersection area subset_image"
   ]
  },
  {
   "cell_type": "code",
   "execution_count": null,
   "metadata": {},
   "outputs": [],
   "source": [
    "imageboundry_subset=ImageBoundry('target image')"
   ]
  },
  {
   "cell_type": "code",
   "execution_count": null,
   "metadata": {},
   "outputs": [],
   "source": [
    "gdf = geopandas.read_file(imageboundry_subset)\n",
    "geom_gdf=gdf.geometry\n",
    "geom_country=countries.geometry"
   ]
  },
  {
   "cell_type": "code",
   "execution_count": null,
   "metadata": {},
   "outputs": [],
   "source": [
    "res_intersection = geopandas.overlay(gdf,countries, how='intersection')\n"
   ]
  },
  {
   "cell_type": "code",
   "execution_count": null,
   "metadata": {},
   "outputs": [],
   "source": [
    "type(res_intersection.geometry)"
   ]
  },
  {
   "cell_type": "code",
   "execution_count": null,
   "metadata": {},
   "outputs": [],
   "source": [
    "res_intersection.plot()"
   ]
  }
 ],
 "metadata": {
  "kernelspec": {
   "display_name": "Python 3",
   "language": "python",
   "name": "python3"
  },
  "language_info": {
   "codemirror_mode": {
    "name": "ipython",
    "version": 3
   },
   "file_extension": ".py",
   "mimetype": "text/x-python",
   "name": "python",
   "nbconvert_exporter": "python",
   "pygments_lexer": "ipython3",
   "version": "3.7.2"
  }
 },
 "nbformat": 4,
 "nbformat_minor": 2
}
