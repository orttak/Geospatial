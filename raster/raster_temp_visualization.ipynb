{
 "cells": [
  {
   "cell_type": "code",
   "execution_count": 1,
   "metadata": {},
   "outputs": [],
   "source": [
    "from osgeo import gdal,ogr,osr\n",
    "import pandas as pd\n",
    "import geopandas\n",
    "from shapely import wkt\n",
    "from itertools import compress\n",
    "import numpy as np\n",
    "import matplotlib.pyplot as plt\n",
    "import seaborn as sns\n"
   ]
  },
  {
   "cell_type": "code",
   "execution_count": 2,
   "metadata": {
    "jupyter": {
     "source_hidden": true
    }
   },
   "outputs": [],
   "source": [
    "def ImageBoundry(FilePath):\n",
    "        #for aspect data\n",
    "        imgname=FilePath\n",
    "\n",
    "        from osgeo import gdal,ogr\n",
    "        ds = gdal.Open(FilePath)\n",
    "        gt = ds.GetGeoTransform()  # captures origin and pixel size\n",
    "        srs = osr.SpatialReference()\n",
    "        srs.ImportFromEPSG(4326)\n",
    "        \n",
    "\n",
    "        \n",
    "        ULC = gdal.ApplyGeoTransform(gt, 0, 0) #Upper Left Corner\n",
    "        URC = gdal.ApplyGeoTransform(gt, ds.RasterXSize, 0) #Upper Right Corner\n",
    "        LLC = gdal.ApplyGeoTransform(gt, 0, ds.RasterYSize) #Lower Left Corner\n",
    "        LRC = gdal.ApplyGeoTransform(gt, ds.RasterXSize, ds.RasterYSize) #Lower Right Corner\n",
    "                   \n",
    "        ring = ogr.Geometry(ogr.wkbLinearRing)\n",
    "        ring.AddPoint_2D(ULC[0], ULC[1])\n",
    "        ring.AddPoint_2D(URC[0], URC[1])\n",
    "        ring.AddPoint_2D(LRC[0], LRC[1])\n",
    "        ring.AddPoint_2D(LLC[0], LLC[1])\n",
    "        ring.AddPoint_2D(ULC[0], ULC[1]) \n",
    "        poly=ogr.Geometry(ogr.wkbPolygon)\n",
    "        poly.AddGeometry(ring)\n",
    "        #poly.SpatialReference('EPSG:4326')\n",
    "        # second item is name of the image\n",
    "        return poly.ExportToJson() ,imgname"
   ]
  },
  {
   "cell_type": "code",
   "execution_count": 3,
   "metadata": {},
   "outputs": [],
   "source": [
    "def ListofExtensionAndName(directory,extension):\n",
    "     \n",
    "        if len(directory) != None:\n",
    "            import os\n",
    "            FilesList = []\n",
    "            FileName=[]\n",
    "            for root, subdirectory, files in os.walk(directory):\n",
    "                for file in files:\n",
    "                    if file.endswith(extension):\n",
    "                        FilesList.append(os.path.join(root,file))\n",
    "                        base=os.path.basename(file)\n",
    "                        FileName.append(os.path.splitext(base)[0])\n",
    "\n",
    "            return sorted(FilesList),sorted(FileName)\n",
    "        else:\n",
    "            print(\"no\"+ extension +\"file for this directory\")"
   ]
  },
  {
   "cell_type": "code",
   "execution_count": 4,
   "metadata": {},
   "outputs": [],
   "source": [
    "tmp_data=ListofExtensionAndName('../geoserver_data/global-climate-mountly/north/','tif')"
   ]
  },
  {
   "cell_type": "code",
   "execution_count": 6,
   "metadata": {},
   "outputs": [
    {
     "data": {
      "text/plain": [
       "['../geoserver_data/global-climate-mountly/north/wc2.1_30s_tavg_01.tif',\n",
       " '../geoserver_data/global-climate-mountly/north/wc2.1_30s_tavg_02.tif',\n",
       " '../geoserver_data/global-climate-mountly/north/wc2.1_30s_tavg_03.tif',\n",
       " '../geoserver_data/global-climate-mountly/north/wc2.1_30s_tavg_04.tif',\n",
       " '../geoserver_data/global-climate-mountly/north/wc2.1_30s_tavg_05.tif',\n",
       " '../geoserver_data/global-climate-mountly/north/wc2.1_30s_tavg_06.tif',\n",
       " '../geoserver_data/global-climate-mountly/north/wc2.1_30s_tavg_07.tif',\n",
       " '../geoserver_data/global-climate-mountly/north/wc2.1_30s_tavg_08.tif',\n",
       " '../geoserver_data/global-climate-mountly/north/wc2.1_30s_tavg_09.tif',\n",
       " '../geoserver_data/global-climate-mountly/north/wc2.1_30s_tavg_10.tif',\n",
       " '../geoserver_data/global-climate-mountly/north/wc2.1_30s_tavg_11.tif',\n",
       " '../geoserver_data/global-climate-mountly/north/wc2.1_30s_tavg_12.tif']"
      ]
     },
     "execution_count": 6,
     "metadata": {},
     "output_type": "execute_result"
    }
   ],
   "source": [
    "tmp_data[0]"
   ]
  },
  {
   "cell_type": "code",
   "execution_count": 7,
   "metadata": {},
   "outputs": [
    {
     "name": "stdout",
     "output_type": "stream",
     "text": [
      "**********************************\n",
      "\n",
      "wc2.1_30s_tavg_01 Temperature Info\n",
      "wc2.1_30s_tavg_01 MAX temp is 31.4\n",
      "-----------\n",
      "wc2.1_30s_tavg_01 MIN temp is 25.0\n",
      "-----------\n",
      "wc2.1_30s_tavg_01 MEAN temp is 28.200003\n",
      "-----------\n"
     ]
    },
    {
     "data": {
      "image/png": "[encoded data removed]",
      "text/plain": [
       "<Figure size 432x288 with 1 Axes>"
      ]
     },
     "metadata": {
      "needs_background": "light"
     },
     "output_type": "display_data"
    },
    {
     "data": {
      "text/plain": [
       "<Figure size 1440x1080 with 0 Axes>"
      ]
     },
     "metadata": {},
     "output_type": "display_data"
    },
    {
     "name": "stdout",
     "output_type": "stream",
     "text": [
      "**********************************\n",
      "\n",
      "wc2.1_30s_tavg_02 Temperature Info\n",
      "wc2.1_30s_tavg_02 MAX temp is 32.3\n",
      "-----------\n",
      "wc2.1_30s_tavg_02 MIN temp is 25.0\n",
      "-----------\n",
      "wc2.1_30s_tavg_02 MEAN temp is 28.650002\n",
      "-----------\n"
     ]
    },
    {
     "data": {
      "image/png": "[encoded data removed]",
      "text/plain": [
       "<Figure size 432x288 with 1 Axes>"
      ]
     },
     "metadata": {
      "needs_background": "light"
     },
     "output_type": "display_data"
    },
    {
     "data": {
      "text/plain": [
       "<Figure size 1440x1080 with 0 Axes>"
      ]
     },
     "metadata": {},
     "output_type": "display_data"
    },
    {
     "name": "stdout",
     "output_type": "stream",
     "text": [
      "**********************************\n",
      "\n",
      "wc2.1_30s_tavg_03 Temperature Info\n",
      "wc2.1_30s_tavg_03 MAX temp is 33.1\n",
      "-----------\n",
      "wc2.1_30s_tavg_03 MIN temp is 25.0\n",
      "-----------\n",
      "wc2.1_30s_tavg_03 MEAN temp is 29.050001\n",
      "-----------\n"
     ]
    },
    {
     "data": {
      "image/png": "[encoded data removed]",
      "text/plain": [
       "<Figure size 432x288 with 1 Axes>"
      ]
     },
     "metadata": {
      "needs_background": "light"
     },
     "output_type": "display_data"
    },
    {
     "data": {
      "text/plain": [
       "<Figure size 1440x1080 with 0 Axes>"
      ]
     },
     "metadata": {},
     "output_type": "display_data"
    },
    {
     "name": "stdout",
     "output_type": "stream",
     "text": [
      "**********************************\n",
      "\n",
      "wc2.1_30s_tavg_04 Temperature Info\n",
      "wc2.1_30s_tavg_04 MAX temp is 34.4\n",
      "-----------\n",
      "wc2.1_30s_tavg_04 MIN temp is 25.0\n",
      "-----------\n",
      "wc2.1_30s_tavg_04 MEAN temp is 29.7\n",
      "-----------\n"
     ]
    },
    {
     "data": {
      "image/png": "[encoded data removed]",
      "text/plain": [
       "<Figure size 432x288 with 1 Axes>"
      ]
     },
     "metadata": {
      "needs_background": "light"
     },
     "output_type": "display_data"
    },
    {
     "data": {
      "text/plain": [
       "<Figure size 1440x1080 with 0 Axes>"
      ]
     },
     "metadata": {},
     "output_type": "display_data"
    },
    {
     "name": "stdout",
     "output_type": "stream",
     "text": [
      "**********************************\n",
      "\n",
      "wc2.1_30s_tavg_05 Temperature Info\n",
      "wc2.1_30s_tavg_05 MAX temp is 36.4\n",
      "-----------\n",
      "wc2.1_30s_tavg_05 MIN temp is 25.0\n",
      "-----------\n",
      "wc2.1_30s_tavg_05 MEAN temp is 30.7\n",
      "-----------\n"
     ]
    },
    {
     "data": {
      "image/png": "[encoded data removed]",
      "text/plain": [
       "<Figure size 432x288 with 1 Axes>"
      ]
     },
     "metadata": {
      "needs_background": "light"
     },
     "output_type": "display_data"
    },
    {
     "data": {
      "text/plain": [
       "<Figure size 1440x1080 with 0 Axes>"
      ]
     },
     "metadata": {},
     "output_type": "display_data"
    },
    {
     "name": "stdout",
     "output_type": "stream",
     "text": [
      "**********************************\n",
      "\n",
      "wc2.1_30s_tavg_06 Temperature Info\n",
      "wc2.1_30s_tavg_06 MAX temp is 38.6\n",
      "-----------\n",
      "wc2.1_30s_tavg_06 MIN temp is 25.0\n",
      "-----------\n",
      "wc2.1_30s_tavg_06 MEAN temp is 31.800001\n",
      "-----------\n"
     ]
    },
    {
     "data": {
      "image/png": "[encoded data removed]",
      "text/plain": [
       "<Figure size 432x288 with 1 Axes>"
      ]
     },
     "metadata": {
      "needs_background": "light"
     },
     "output_type": "display_data"
    },
    {
     "data": {
      "text/plain": [
       "<Figure size 1440x1080 with 0 Axes>"
      ]
     },
     "metadata": {},
     "output_type": "display_data"
    },
    {
     "name": "stdout",
     "output_type": "stream",
     "text": [
      "**********************************\n",
      "\n",
      "wc2.1_30s_tavg_07 Temperature Info\n",
      "wc2.1_30s_tavg_07 MAX temp is 39.9\n",
      "-----------\n",
      "wc2.1_30s_tavg_07 MIN temp is 25.0\n",
      "-----------\n",
      "wc2.1_30s_tavg_07 MEAN temp is 32.449997\n",
      "-----------\n"
     ]
    },
    {
     "data": {
      "image/png": "[encoded data removed]",
      "text/plain": [
       "<Figure size 432x288 with 1 Axes>"
      ]
     },
     "metadata": {
      "needs_background": "light"
     },
     "output_type": "display_data"
    },
    {
     "data": {
      "text/plain": [
       "<Figure size 1440x1080 with 0 Axes>"
      ]
     },
     "metadata": {},
     "output_type": "display_data"
    },
    {
     "name": "stdout",
     "output_type": "stream",
     "text": [
      "**********************************\n",
      "\n",
      "wc2.1_30s_tavg_08 Temperature Info\n",
      "wc2.1_30s_tavg_08 MAX temp is 38.7\n",
      "-----------\n",
      "wc2.1_30s_tavg_08 MIN temp is 25.0\n",
      "-----------\n",
      "wc2.1_30s_tavg_08 MEAN temp is 31.849998\n",
      "-----------\n"
     ]
    },
    {
     "data": {
      "image/png": "[encoded data removed]",
      "text/plain": [
       "<Figure size 432x288 with 1 Axes>"
      ]
     },
     "metadata": {
      "needs_background": "light"
     },
     "output_type": "display_data"
    },
    {
     "data": {
      "text/plain": [
       "<Figure size 1440x1080 with 0 Axes>"
      ]
     },
     "metadata": {},
     "output_type": "display_data"
    },
    {
     "name": "stdout",
     "output_type": "stream",
     "text": [
      "**********************************\n",
      "\n",
      "wc2.1_30s_tavg_09 Temperature Info\n",
      "wc2.1_30s_tavg_09 MAX temp is 36.1\n",
      "-----------\n",
      "wc2.1_30s_tavg_09 MIN temp is 25.0\n",
      "-----------\n",
      "wc2.1_30s_tavg_09 MEAN temp is 30.550001\n",
      "-----------\n"
     ]
    },
    {
     "data": {
      "image/png": "[encoded data removed]",
      "text/plain": [
       "<Figure size 432x288 with 1 Axes>"
      ]
     },
     "metadata": {
      "needs_background": "light"
     },
     "output_type": "display_data"
    },
    {
     "data": {
      "text/plain": [
       "<Figure size 1440x1080 with 0 Axes>"
      ]
     },
     "metadata": {},
     "output_type": "display_data"
    },
    {
     "name": "stdout",
     "output_type": "stream",
     "text": [
      "**********************************\n",
      "\n",
      "wc2.1_30s_tavg_10 Temperature Info\n",
      "wc2.1_30s_tavg_10 MAX temp is 33.0\n",
      "-----------\n",
      "wc2.1_30s_tavg_10 MIN temp is 25.0\n",
      "-----------\n",
      "wc2.1_30s_tavg_10 MEAN temp is 29.0\n",
      "-----------\n"
     ]
    },
    {
     "data": {
      "image/png": "[encoded data removed]",
      "text/plain": [
       "<Figure size 432x288 with 1 Axes>"
      ]
     },
     "metadata": {
      "needs_background": "light"
     },
     "output_type": "display_data"
    },
    {
     "data": {
      "text/plain": [
       "<Figure size 1440x1080 with 0 Axes>"
      ]
     },
     "metadata": {},
     "output_type": "display_data"
    },
    {
     "name": "stdout",
     "output_type": "stream",
     "text": [
      "**********************************\n",
      "\n",
      "wc2.1_30s_tavg_11 Temperature Info\n",
      "wc2.1_30s_tavg_11 MAX temp is 30.7\n",
      "-----------\n",
      "wc2.1_30s_tavg_11 MIN temp is 25.0\n",
      "-----------\n",
      "wc2.1_30s_tavg_11 MEAN temp is 27.849998\n",
      "-----------\n"
     ]
    },
    {
     "data": {
      "image/png": "[encoded data removed]",
      "text/plain": [
       "<Figure size 432x288 with 1 Axes>"
      ]
     },
     "metadata": {
      "needs_background": "light"
     },
     "output_type": "display_data"
    },
    {
     "data": {
      "text/plain": [
       "<Figure size 1440x1080 with 0 Axes>"
      ]
     },
     "metadata": {},
     "output_type": "display_data"
    },
    {
     "name": "stdout",
     "output_type": "stream",
     "text": [
      "**********************************\n",
      "\n",
      "wc2.1_30s_tavg_12 Temperature Info\n",
      "wc2.1_30s_tavg_12 MAX temp is 30.4\n",
      "-----------\n",
      "wc2.1_30s_tavg_12 MIN temp is 25.0\n",
      "-----------\n",
      "wc2.1_30s_tavg_12 MEAN temp is 27.7\n",
      "-----------\n"
     ]
    },
    {
     "data": {
      "image/png": "[encoded data removed]",
      "text/plain": [
       "<Figure size 432x288 with 1 Axes>"
      ]
     },
     "metadata": {
      "needs_background": "light"
     },
     "output_type": "display_data"
    },
    {
     "data": {
      "text/plain": [
       "<Figure size 1440x1080 with 0 Axes>"
      ]
     },
     "metadata": {},
     "output_type": "display_data"
    }
   ],
   "source": [
    "for index,i in enumerate(tmp_data[0]):\n",
    "    img=gdal.Open(i)\n",
    "    array=img.ReadAsArray()\n",
    "    \n",
    "    unique, counts =np.unique(array, return_counts=True)\n",
    "    # ELIMINATE DATA UNDER 25\n",
    "    unique=np.where((unique<25),np.NaN,unique)\n",
    "    print('**********************************')\n",
    "    print('')\n",
    "    print(tmp_data[1][index]+' Temperature Info')\n",
    "    tmp_max=np.nanmax(unique)\n",
    "    tmp_min=np.nanmin(unique)\n",
    "    tmp_mean=np.nanmean(unique)\n",
    "    print(tmp_data[1][index]+' MAX temp is '+str(tmp_max))\n",
    "    print('-----------')\n",
    "    print(tmp_data[1][index]+' MIN temp is '+str(tmp_min))\n",
    "    print('-----------')\n",
    "    print(tmp_data[1][index]+' MEAN temp is '+str(tmp_mean))    \n",
    "    print('-----------')\n",
    "    \n",
    "    array_hot_int=np.rint(unique)\n",
    "    array_hot_int=array_hot_int.astype('int8')\n",
    "    unique_hot, counts =np.unique(array_hot_int, return_counts=True)\n",
    "    value=dict(zip(list(unique_hot), counts))\n",
    "    del value[0]\n",
    "    sns.barplot(x=list(value.keys()),y=list(value.values()),ci=\"sd\")\n",
    "    plt.figure(figsize=(20,15))\n",
    "    plt.show()\n",
    "\n",
    "    img=None\n",
    "    array=None"
   ]
  },
  {
   "cell_type": "markdown",
   "metadata": {},
   "source": [
    "### South"
   ]
  },
  {
   "cell_type": "code",
   "execution_count": 8,
   "metadata": {},
   "outputs": [],
   "source": [
    "tmp_datoa_south=ListofExtensionAndName('../geoserver_data/global-climate-mountly/south/','tif')"
   ]
  },
  {
   "cell_type": "code",
   "execution_count": 9,
   "metadata": {},
   "outputs": [
    {
     "name": "stdout",
     "output_type": "stream",
     "text": [
      "**********************************\n",
      "\n",
      "wc2.1_30s_tavg_01 Temperature Info\n",
      "wc2.1_30s_tavg_01 MAX temp is 34.1\n",
      "-----------\n",
      "wc2.1_30s_tavg_01 MIN temp is 25.0\n",
      "-----------\n",
      "wc2.1_30s_tavg_01 MEAN temp is 29.550001\n",
      "-----------\n"
     ]
    },
    {
     "data": {
      "image/png": "[encoded data removed]",
      "text/plain": [
       "<Figure size 432x288 with 1 Axes>"
      ]
     },
     "metadata": {
      "needs_background": "light"
     },
     "output_type": "display_data"
    },
    {
     "data": {
      "text/plain": [
       "<Figure size 1440x1080 with 0 Axes>"
      ]
     },
     "metadata": {},
     "output_type": "display_data"
    },
    {
     "name": "stdout",
     "output_type": "stream",
     "text": [
      "**********************************\n",
      "\n",
      "wc2.1_30s_tavg_02 Temperature Info\n",
      "wc2.1_30s_tavg_02 MAX temp is 33.0\n",
      "-----------\n",
      "wc2.1_30s_tavg_02 MIN temp is 25.0\n",
      "-----------\n",
      "wc2.1_30s_tavg_02 MEAN temp is 29.0\n",
      "-----------\n"
     ]
    },
    {
     "data": {
      "image/png": "[encoded data removed]",
      "text/plain": [
       "<Figure size 432x288 with 1 Axes>"
      ]
     },
     "metadata": {
      "needs_background": "light"
     },
     "output_type": "display_data"
    },
    {
     "data": {
      "text/plain": [
       "<Figure size 1440x1080 with 0 Axes>"
      ]
     },
     "metadata": {},
     "output_type": "display_data"
    },
    {
     "name": "stdout",
     "output_type": "stream",
     "text": [
      "**********************************\n",
      "\n",
      "wc2.1_30s_tavg_03 Temperature Info\n",
      "wc2.1_30s_tavg_03 MAX temp is 32.1\n",
      "-----------\n",
      "wc2.1_30s_tavg_03 MIN temp is 25.0\n",
      "-----------\n",
      "wc2.1_30s_tavg_03 MEAN temp is 28.550001\n",
      "-----------\n"
     ]
    },
    {
     "data": {
      "image/png": "[encoded data removed]",
      "text/plain": [
       "<Figure size 432x288 with 1 Axes>"
      ]
     },
     "metadata": {
      "needs_background": "light"
     },
     "output_type": "display_data"
    },
    {
     "data": {
      "text/plain": [
       "<Figure size 1440x1080 with 0 Axes>"
      ]
     },
     "metadata": {},
     "output_type": "display_data"
    },
    {
     "name": "stdout",
     "output_type": "stream",
     "text": [
      "**********************************\n",
      "\n",
      "wc2.1_30s_tavg_04 Temperature Info\n",
      "wc2.1_30s_tavg_04 MAX temp is 30.4\n",
      "-----------\n",
      "wc2.1_30s_tavg_04 MIN temp is 25.0\n",
      "-----------\n",
      "wc2.1_30s_tavg_04 MEAN temp is 27.655556\n",
      "-----------\n"
     ]
    },
    {
     "data": {
      "image/png": "[encoded data removed]",
      "text/plain": [
       "<Figure size 432x288 with 1 Axes>"
      ]
     },
     "metadata": {
      "needs_background": "light"
     },
     "output_type": "display_data"
    },
    {
     "data": {
      "text/plain": [
       "<Figure size 1440x1080 with 0 Axes>"
      ]
     },
     "metadata": {},
     "output_type": "display_data"
    },
    {
     "name": "stdout",
     "output_type": "stream",
     "text": [
      "**********************************\n",
      "\n",
      "wc2.1_30s_tavg_05 Temperature Info\n",
      "wc2.1_30s_tavg_05 MAX temp is 30.0\n",
      "-----------\n",
      "wc2.1_30s_tavg_05 MIN temp is 25.0\n",
      "-----------\n",
      "wc2.1_30s_tavg_05 MEAN temp is 27.358332\n",
      "-----------\n"
     ]
    },
    {
     "data": {
      "image/png": "[encoded data removed]",
      "text/plain": [
       "<Figure size 432x288 with 1 Axes>"
      ]
     },
     "metadata": {
      "needs_background": "light"
     },
     "output_type": "display_data"
    },
    {
     "data": {
      "text/plain": [
       "<Figure size 1440x1080 with 0 Axes>"
      ]
     },
     "metadata": {},
     "output_type": "display_data"
    },
    {
     "name": "stdout",
     "output_type": "stream",
     "text": [
      "**********************************\n",
      "\n",
      "wc2.1_30s_tavg_06 Temperature Info\n",
      "wc2.1_30s_tavg_06 MAX temp is 29.9\n",
      "-----------\n",
      "wc2.1_30s_tavg_06 MIN temp is 25.0\n",
      "-----------\n",
      "wc2.1_30s_tavg_06 MEAN temp is 27.312765\n",
      "-----------\n"
     ]
    },
    {
     "data": {
      "image/png": "[encoded data removed]",
      "text/plain": [
       "<Figure size 432x288 with 1 Axes>"
      ]
     },
     "metadata": {
      "needs_background": "light"
     },
     "output_type": "display_data"
    },
    {
     "data": {
      "text/plain": [
       "<Figure size 1440x1080 with 0 Axes>"
      ]
     },
     "metadata": {},
     "output_type": "display_data"
    },
    {
     "name": "stdout",
     "output_type": "stream",
     "text": [
      "**********************************\n",
      "\n",
      "wc2.1_30s_tavg_07 Temperature Info\n",
      "wc2.1_30s_tavg_07 MAX temp is 29.4\n",
      "-----------\n",
      "wc2.1_30s_tavg_07 MIN temp is 25.0\n",
      "-----------\n",
      "wc2.1_30s_tavg_07 MEAN temp is 27.109304\n",
      "-----------\n"
     ]
    },
    {
     "data": {
      "image/png": "[encoded data removed]",
      "text/plain": [
       "<Figure size 432x288 with 1 Axes>"
      ]
     },
     "metadata": {
      "needs_background": "light"
     },
     "output_type": "display_data"
    },
    {
     "data": {
      "text/plain": [
       "<Figure size 1440x1080 with 0 Axes>"
      ]
     },
     "metadata": {},
     "output_type": "display_data"
    },
    {
     "name": "stdout",
     "output_type": "stream",
     "text": [
      "**********************************\n",
      "\n",
      "wc2.1_30s_tavg_08 Temperature Info\n",
      "wc2.1_30s_tavg_08 MAX temp is 29.5\n",
      "-----------\n",
      "wc2.1_30s_tavg_08 MIN temp is 25.0\n",
      "-----------\n",
      "wc2.1_30s_tavg_08 MEAN temp is 27.250002\n",
      "-----------\n"
     ]
    },
    {
     "data": {
      "image/png": "[encoded data removed]",
      "text/plain": [
       "<Figure size 432x288 with 1 Axes>"
      ]
     },
     "metadata": {
      "needs_background": "light"
     },
     "output_type": "display_data"
    },
    {
     "data": {
      "text/plain": [
       "<Figure size 1440x1080 with 0 Axes>"
      ]
     },
     "metadata": {},
     "output_type": "display_data"
    },
    {
     "name": "stdout",
     "output_type": "stream",
     "text": [
      "**********************************\n",
      "\n",
      "wc2.1_30s_tavg_09 Temperature Info\n",
      "wc2.1_30s_tavg_09 MAX temp is 29.8\n",
      "-----------\n",
      "wc2.1_30s_tavg_09 MIN temp is 25.0\n",
      "-----------\n",
      "wc2.1_30s_tavg_09 MEAN temp is 27.400002\n",
      "-----------\n"
     ]
    },
    {
     "data": {
      "image/png": "[encoded data removed]",
      "text/plain": [
       "<Figure size 432x288 with 1 Axes>"
      ]
     },
     "metadata": {
      "needs_background": "light"
     },
     "output_type": "display_data"
    },
    {
     "data": {
      "text/plain": [
       "<Figure size 1440x1080 with 0 Axes>"
      ]
     },
     "metadata": {},
     "output_type": "display_data"
    },
    {
     "name": "stdout",
     "output_type": "stream",
     "text": [
      "**********************************\n",
      "\n",
      "wc2.1_30s_tavg_10 Temperature Info\n",
      "wc2.1_30s_tavg_10 MAX temp is 32.3\n",
      "-----------\n",
      "wc2.1_30s_tavg_10 MIN temp is 25.0\n",
      "-----------\n",
      "wc2.1_30s_tavg_10 MEAN temp is 28.650002\n",
      "-----------\n"
     ]
    },
    {
     "data": {
      "image/png": "[encoded data removed]",
      "text/plain": [
       "<Figure size 432x288 with 1 Axes>"
      ]
     },
     "metadata": {
      "needs_background": "light"
     },
     "output_type": "display_data"
    },
    {
     "data": {
      "text/plain": [
       "<Figure size 1440x1080 with 0 Axes>"
      ]
     },
     "metadata": {},
     "output_type": "display_data"
    },
    {
     "name": "stdout",
     "output_type": "stream",
     "text": [
      "**********************************\n",
      "\n",
      "wc2.1_30s_tavg_11 Temperature Info\n",
      "wc2.1_30s_tavg_11 MAX temp is 33.3\n",
      "-----------\n",
      "wc2.1_30s_tavg_11 MIN temp is 25.0\n",
      "-----------\n",
      "wc2.1_30s_tavg_11 MEAN temp is 29.150002\n",
      "-----------\n"
     ]
    },
    {
     "data": {
      "image/png": "[encoded data removed]",
      "text/plain": [
       "<Figure size 432x288 with 1 Axes>"
      ]
     },
     "metadata": {
      "needs_background": "light"
     },
     "output_type": "display_data"
    },
    {
     "data": {
      "text/plain": [
       "<Figure size 1440x1080 with 0 Axes>"
      ]
     },
     "metadata": {},
     "output_type": "display_data"
    },
    {
     "name": "stdout",
     "output_type": "stream",
     "text": [
      "**********************************\n",
      "\n",
      "wc2.1_30s_tavg_12 Temperature Info\n",
      "wc2.1_30s_tavg_12 MAX temp is 33.1\n",
      "-----------\n",
      "wc2.1_30s_tavg_12 MIN temp is 25.0\n",
      "-----------\n",
      "wc2.1_30s_tavg_12 MEAN temp is 29.050001\n",
      "-----------\n"
     ]
    },
    {
     "data": {
      "image/png": "[encoded data removed]",
      "text/plain": [
       "<Figure size 432x288 with 1 Axes>"
      ]
     },
     "metadata": {
      "needs_background": "light"
     },
     "output_type": "display_data"
    },
    {
     "data": {
      "text/plain": [
       "<Figure size 1440x1080 with 0 Axes>"
      ]
     },
     "metadata": {},
     "output_type": "display_data"
    }
   ],
   "source": [
    "for index,i in enumerate(tmp_datoa_south[0]):\n",
    "    img=gdal.Open(i)\n",
    "    array=img.ReadAsArray()\n",
    "    \n",
    "    unique, counts =np.unique(array, return_counts=True)\n",
    "    # ELIMINATE DATA UNDER 25\n",
    "    unique=np.where((unique<25),np.NaN,unique)\n",
    "    print('**********************************')\n",
    "    print('')\n",
    "    print(tmp_datoa_south[1][index]+' Temperature Info')\n",
    "    tmp_max=np.nanmax(unique)\n",
    "    tmp_min=np.nanmin(unique)\n",
    "    tmp_mean=np.nanmean(unique)\n",
    "    print(tmp_data[1][index]+' MAX temp is '+str(tmp_max))\n",
    "    print('-----------')\n",
    "    print(tmp_data[1][index]+' MIN temp is '+str(tmp_min))\n",
    "    print('-----------')\n",
    "    print(tmp_data[1][index]+' MEAN temp is '+str(tmp_mean))    \n",
    "    print('-----------')\n",
    "    \n",
    "    array_hot_int=np.rint(unique)\n",
    "    array_hot_int=array_hot_int.astype('int8')\n",
    "    unique_hot, counts =np.unique(array_hot_int, return_counts=True)\n",
    "    value=dict(zip(list(unique_hot), counts))\n",
    "    del value[0]\n",
    "    sns.barplot(x=list(value.keys()),y=list(value.values()),ci=\"sd\")\n",
    "    plt.figure(figsize=(20,15))\n",
    "    plt.show()\n",
    "\n",
    "    img=None\n",
    "    array=None"
   ]
  },
  {
   "cell_type": "code",
   "execution_count": null,
   "metadata": {},
   "outputs": [],
   "source": []
  },
  {
   "cell_type": "code",
   "execution_count": null,
   "metadata": {},
   "outputs": [],
   "source": []
  }
 ],
 "metadata": {
  "kernelspec": {
   "display_name": "Python 3",
   "language": "python",
   "name": "python3"
  },
  "language_info": {
   "codemirror_mode": {
    "name": "ipython",
    "version": 3
   },
   "file_extension": ".py",
   "mimetype": "text/x-python",
   "name": "python",
   "nbconvert_exporter": "python",
   "pygments_lexer": "ipython3",
   "version": "3.6.9"
  }
 },
 "nbformat": 4,
 "nbformat_minor": 4
}
