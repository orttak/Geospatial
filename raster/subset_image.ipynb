{
 "cells": [
  {
   "cell_type": "code",
   "execution_count": 2,
   "metadata": {},
   "outputs": [],
   "source": [
    "from osgeo import gdal\n",
    "import json\n",
    "import geopandas as gpd\n",
    "import rasterio\n",
    "import rasterio.mask\n"
   ]
  },
  {
   "cell_type": "code",
   "execution_count": 3,
   "metadata": {},
   "outputs": [],
   "source": [
    "input_raster=gdal.Open(r\"../urfa/LC08_L1TP_173034_20180711_20180717_01_T1/LC08_L1TP_173034_20180711_20180717_01_T_TOA/rgb.vrt\")\n",
    "input_shape = r\"../shp/urfa.shp\" # or any other format\n",
    "output_raster=r\"../urfa/LC08_L1TP_173034_20180711_20180717_01_T1/LC08_L1TP_173034_20180711_20180717_01_T_TOA/rgb_subset.tif\" #your output raster file\n",
    "\n"
   ]
  },
  {
   "cell_type": "code",
   "execution_count": 4,
   "metadata": {},
   "outputs": [],
   "source": [
    "ds = gdal.Warp(output_raster,\n",
    "              input_raster,\n",
    "              format = 'GTiff',\n",
    "              cutlineDSName = input_shape, \n",
    "              cutlineWhere=\"FIELD = 'whatever'\",\n",
    "              cropToCutline=True\n",
    "              ) \n",
    "ds=None "
   ]
  },
  {
   "cell_type": "code",
   "execution_count": null,
   "metadata": {},
   "outputs": [],
   "source": []
  }
 ],
 "metadata": {
  "kernelspec": {
   "display_name": "Python 3",
   "language": "python",
   "name": "python3"
  },
  "language_info": {
   "codemirror_mode": {
    "name": "ipython",
    "version": 3
   },
   "file_extension": ".py",
   "mimetype": "text/x-python",
   "name": "python",
   "nbconvert_exporter": "python",
   "pygments_lexer": "ipython3",
   "version": "3.6.9"
  }
 },
 "nbformat": 4,
 "nbformat_minor": 4
}
