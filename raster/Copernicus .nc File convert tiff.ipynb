{
 "cells": [
  {
   "cell_type": "code",
   "execution_count": null,
   "metadata": {},
   "outputs": [],
   "source": [
    "'''\n",
    "With these code blocks, after download Copernicus data from https://land.copernicus.eu/global/products \n",
    "you can convert nc file to tiff file. \n",
    "'''"
   ]
  },
  {
   "cell_type": "code",
   "execution_count": 1,
   "metadata": {},
   "outputs": [],
   "source": [
    "import numpy as np\n",
    "import matplotlib.pyplot as plt\n",
    "from netCDF4 import Dataset\n",
    "from osgeo import gdal,osr,gdal_array,gdalnumeric\n"
   ]
  },
  {
   "cell_type": "code",
   "execution_count": 2,
   "metadata": {},
   "outputs": [],
   "source": [
    "def ListofExtensionAndName(directory,extension):\n",
    "     \n",
    "        if len(directory) != None:\n",
    "            import os\n",
    "            FilesList = []\n",
    "            FileName=[]\n",
    "            for root, subdirectory, files in os.walk(directory):\n",
    "                for file in files:\n",
    "                    if file.endswith(extension):\n",
    "                        FilesList.append(os.path.join(root,file))\n",
    "                        base=os.path.basename(file)\n",
    "                        FileName.append(os.path.splitext(base)[0])\n",
    "\n",
    "            return FilesList,FileName\n",
    "        else:\n",
    "            print(\"no\"+ extension +\"file for this directory\")"
   ]
  },
  {
   "cell_type": "code",
   "execution_count": null,
   "metadata": {},
   "outputs": [],
   "source": [
    "ncfiles=ListofExtensionAndName(Path,extention) # sample >> ListofExtensionAndName(data/ncfiles, 'nc')"
   ]
  },
  {
   "cell_type": "code",
   "execution_count": null,
   "metadata": {},
   "outputs": [],
   "source": [
    "#convert nc file to geotiff with .bat file in command line \n",
    "for index,i in enumerate(ncfiles[0],0):\n",
    "    data=Dataset(i)\n",
    "    #var_name could be change depend on your data. exampe >> ndvi \n",
    "    var_name='ssm'\n",
    "    subdataset = 'HDF5:\"'+ ncfiles[1][index] +'.nc'+'\"://' + var_name\n",
    "    lon_min=data.geospatial_lon_min\n",
    "    lat_max=data.geospatial_lat_max\n",
    "    \n",
    "    lon_max=data.geospatial_lon_max\n",
    "    lat_min=data.geospatial_lat_min\n",
    "    \n",
    "    dst = i[:-7]+'.tif'\n",
    "    cmd = \"-a_srs \\\"EPSG:4326\\\" -a_ullr \"+str(lon_min)+' '+str(lat_max )+' '+str(lon_max )+' '+str(lat_min )\n",
    "    \n",
    "    translate_path= ''\n",
    "    MozaikPath =\"input mosaics\"\n",
    "    outputimg=translate_path+\"/\"+ncfiles[1][index]+\".tif\"\n",
    "    translate_code= \"gdal_translate\"+ \" \"+ cmd + ' '+ subdataset + ' ' + outputimg\n",
    "    print(translate_code)\n",
    "    print('------------')\n",
    "    with open('export path', 'a') as the_file:\n",
    "        the_file.write(translate_code+\"\\n\")\n",
    "                        \n",
    "             "
   ]
  },
  {
   "cell_type": "code",
   "execution_count": null,
   "metadata": {},
   "outputs": [],
   "source": []
  },
  {
   "cell_type": "code",
   "execution_count": null,
   "metadata": {},
   "outputs": [],
   "source": []
  }
 ],
 "metadata": {
  "kernelspec": {
   "display_name": "Python 3",
   "language": "python",
   "name": "python3"
  },
  "language_info": {
   "codemirror_mode": {
    "name": "ipython",
    "version": 3
   },
   "file_extension": ".py",
   "mimetype": "text/x-python",
   "name": "python",
   "nbconvert_exporter": "python",
   "pygments_lexer": "ipython3",
   "version": "3.8.5"
  }
 },
 "nbformat": 4,
 "nbformat_minor": 4
}
