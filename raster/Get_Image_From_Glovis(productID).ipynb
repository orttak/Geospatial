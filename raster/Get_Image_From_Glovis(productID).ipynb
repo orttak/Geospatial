{
 "cells": [
  {
   "cell_type": "code",
   "execution_count": 1,
   "metadata": {},
   "outputs": [],
   "source": [
    "#data from landsat id and path row"
   ]
  },
  {
   "cell_type": "code",
   "execution_count": 1,
   "metadata": {},
   "outputs": [],
   "source": [
    "from datetime import date\n",
    "import geopandas as gpd\n",
    "import pandas as pd\n",
    "import numpy as np\n",
    "import rasterio\n",
    "import folium\n",
    "import gdal\n",
    "import time\n",
    "import requests\n",
    "import os \n",
    "import shutil"
   ]
  },
  {
   "cell_type": "code",
   "execution_count": 6,
   "metadata": {},
   "outputs": [],
   "source": [
    "download_path='../ege/'\n",
    "if not os.path.isdir(download_path):\n",
    "    os.mkdir(download_path)\n",
    "    "
   ]
  },
  {
   "cell_type": "code",
   "execution_count": 3,
   "metadata": {},
   "outputs": [],
   "source": [
    "s3_scenes = pd.read_csv('http://landsat-pds.s3.amazonaws.com/c1/L8/scene_list.gz', compression='gzip')"
   ]
  },
  {
   "cell_type": "code",
   "execution_count": 4,
   "metadata": {},
   "outputs": [
    {
     "data": {
      "text/plain": [
       "0          https://s3-us-west-2.amazonaws.com/landsat-pds...\n",
       "1          https://s3-us-west-2.amazonaws.com/landsat-pds...\n",
       "2          https://s3-us-west-2.amazonaws.com/landsat-pds...\n",
       "3          https://s3-us-west-2.amazonaws.com/landsat-pds...\n",
       "4          https://s3-us-west-2.amazonaws.com/landsat-pds...\n",
       "                                 ...                        \n",
       "1758237    https://s3-us-west-2.amazonaws.com/landsat-pds...\n",
       "1758238    https://s3-us-west-2.amazonaws.com/landsat-pds...\n",
       "1758239    https://s3-us-west-2.amazonaws.com/landsat-pds...\n",
       "1758240    https://s3-us-west-2.amazonaws.com/landsat-pds...\n",
       "1758241    https://s3-us-west-2.amazonaws.com/landsat-pds...\n",
       "Name: download_url, Length: 1758242, dtype: object"
      ]
     },
     "execution_count": 4,
     "metadata": {},
     "output_type": "execute_result"
    }
   ],
   "source": [
    "s3_scenes.download_url"
   ]
  },
  {
   "cell_type": "code",
   "execution_count": 5,
   "metadata": {
    "scrolled": true
   },
   "outputs": [
    {
     "name": "stdin",
     "output_type": "stream",
     "text": [
      "How many images do you want to download?:   2\n",
      "Landsat-8 Image Name (e.g. LC08_L1TP_029029_20190915_20190915_01_RT:   LC08_L1TP_181033_20190823_20190903_01_T1\n",
      "Landsat-8 Image Name (e.g. LC08_L1TP_029029_20190915_20190915_01_RT:   LC08_L1TP_181033_20190722_20190801_01_T1\n"
     ]
    }
   ],
   "source": [
    "target_imgs = []\n",
    "number_of_images = int(input('How many images do you want to download?:  '))\n",
    "for i in range(0, number_of_images): \n",
    "    img=input('Landsat-8 Image Name (e.g. LC08_L1TP_029029_20190915_20190915_01_RT:  ')\n",
    "    img.replace(\" \",\"\")\n",
    "    target_imgs.append(img) \n"
   ]
  },
  {
   "cell_type": "code",
   "execution_count": 8,
   "metadata": {},
   "outputs": [
    {
     "data": {
      "text/plain": [
       "['LC08_L1TP_181033_20190823_20190903_01_T1',\n",
       " 'LC08_L1TP_181033_20190722_20190801_01_T1']"
      ]
     },
     "execution_count": 8,
     "metadata": {},
     "output_type": "execute_result"
    }
   ],
   "source": [
    "target_imgs"
   ]
  },
  {
   "cell_type": "code",
   "execution_count": 1,
   "metadata": {},
   "outputs": [],
   "source": [
    "bilbao=['LC08_L1TP_201030_20190803_20190819_01_T1']"
   ]
  },
  {
   "cell_type": "code",
   "execution_count": 7,
   "metadata": {},
   "outputs": [],
   "source": [
    "urfa=['LC08_L1TP_173034_20190527_20190605_01_T1',\n",
    " 'LC08_L1TP_173034_20190628_20190706_01_T1',\n",
    " 'LC08_L1TP_173034_20190831_20190916_01_T1']"
   ]
  },
  {
   "cell_type": "code",
   "execution_count": 9,
   "metadata": {},
   "outputs": [],
   "source": [
    "ege=['LC08_L1TP_181033_20190823_20190903_01_T1',\n",
    " 'LC08_L1TP_181033_20190722_20190801_01_T1']\n",
    "\n"
   ]
  },
  {
   "cell_type": "code",
   "execution_count": 7,
   "metadata": {},
   "outputs": [
    {
     "data": {
      "text/plain": [
       "3"
      ]
     },
     "execution_count": 7,
     "metadata": {},
     "output_type": "execute_result"
    }
   ],
   "source": [
    "len(target_imgs)"
   ]
  },
  {
   "cell_type": "code",
   "execution_count": null,
   "metadata": {},
   "outputs": [],
   "source": []
  },
  {
   "cell_type": "code",
   "execution_count": 10,
   "metadata": {},
   "outputs": [],
   "source": [
    "def DefineImages(target_imgs):\n",
    "    bulk_list=[]\n",
    "    if len(target_imgs)==1:\n",
    "        scenes=s3_scenes[s3_scenes['productId']==target_imgs[0]]\n",
    "        bulk_list.append(scenes.iloc[0])\n",
    "        bulk_frame = pd.concat(bulk_list, 1).T\n",
    "    else:\n",
    "        for i in target_imgs:\n",
    "            scenes=s3_scenes[s3_scenes['productId']==i]\n",
    "            bulk_list.append(scenes.iloc[0])\n",
    "        \n",
    "        bulk_frame = pd.concat(bulk_list, 1).T\n",
    "    return bulk_frame"
   ]
  },
  {
   "cell_type": "code",
   "execution_count": 11,
   "metadata": {},
   "outputs": [],
   "source": [
    "bulk_frame=DefineImages(target_imgs)\n"
   ]
  },
  {
   "cell_type": "code",
   "execution_count": 12,
   "metadata": {},
   "outputs": [
    {
     "data": {
      "text/html": [
       "<div>\n",
       "<style scoped>\n",
       "    .dataframe tbody tr th:only-of-type {\n",
       "        vertical-align: middle;\n",
       "    }\n",
       "\n",
       "    .dataframe tbody tr th {\n",
       "        vertical-align: top;\n",
       "    }\n",
       "\n",
       "    .dataframe thead th {\n",
       "        text-align: right;\n",
       "    }\n",
       "</style>\n",
       "<table border=\"1\" class=\"dataframe\">\n",
       "  <thead>\n",
       "    <tr style=\"text-align: right;\">\n",
       "      <th></th>\n",
       "      <th>productId</th>\n",
       "      <th>entityId</th>\n",
       "      <th>acquisitionDate</th>\n",
       "      <th>cloudCover</th>\n",
       "      <th>processingLevel</th>\n",
       "      <th>path</th>\n",
       "      <th>row</th>\n",
       "      <th>min_lat</th>\n",
       "      <th>min_lon</th>\n",
       "      <th>max_lat</th>\n",
       "      <th>max_lon</th>\n",
       "      <th>download_url</th>\n",
       "    </tr>\n",
       "  </thead>\n",
       "  <tbody>\n",
       "    <tr>\n",
       "      <td>1687893</td>\n",
       "      <td>LC08_L1TP_181033_20190823_20190903_01_T1</td>\n",
       "      <td>LC81810332019235LGN00</td>\n",
       "      <td>2019-08-23 08:52:32.626804</td>\n",
       "      <td>0.35</td>\n",
       "      <td>L1TP</td>\n",
       "      <td>181</td>\n",
       "      <td>33</td>\n",
       "      <td>37.8252</td>\n",
       "      <td>25.3049</td>\n",
       "      <td>39.9519</td>\n",
       "      <td>27.9932</td>\n",
       "      <td>https://s3-us-west-2.amazonaws.com/landsat-pds...</td>\n",
       "    </tr>\n",
       "    <tr>\n",
       "      <td>1652695</td>\n",
       "      <td>LC08_L1TP_181033_20190722_20190801_01_T1</td>\n",
       "      <td>LC81810332019203LGN00</td>\n",
       "      <td>2019-07-22 08:52:21.298923</td>\n",
       "      <td>0.05</td>\n",
       "      <td>L1TP</td>\n",
       "      <td>181</td>\n",
       "      <td>33</td>\n",
       "      <td>37.8253</td>\n",
       "      <td>25.3084</td>\n",
       "      <td>39.952</td>\n",
       "      <td>27.9966</td>\n",
       "      <td>https://s3-us-west-2.amazonaws.com/landsat-pds...</td>\n",
       "    </tr>\n",
       "  </tbody>\n",
       "</table>\n",
       "</div>"
      ],
      "text/plain": [
       "                                        productId               entityId  \\\n",
       "1687893  LC08_L1TP_181033_20190823_20190903_01_T1  LC81810332019235LGN00   \n",
       "1652695  LC08_L1TP_181033_20190722_20190801_01_T1  LC81810332019203LGN00   \n",
       "\n",
       "                    acquisitionDate cloudCover processingLevel path row  \\\n",
       "1687893  2019-08-23 08:52:32.626804       0.35            L1TP  181  33   \n",
       "1652695  2019-07-22 08:52:21.298923       0.05            L1TP  181  33   \n",
       "\n",
       "         min_lat  min_lon  max_lat  max_lon  \\\n",
       "1687893  37.8252  25.3049  39.9519  27.9932   \n",
       "1652695  37.8253  25.3084   39.952  27.9966   \n",
       "\n",
       "                                              download_url  \n",
       "1687893  https://s3-us-west-2.amazonaws.com/landsat-pds...  \n",
       "1652695  https://s3-us-west-2.amazonaws.com/landsat-pds...  "
      ]
     },
     "execution_count": 12,
     "metadata": {},
     "output_type": "execute_result"
    }
   ],
   "source": [
    "bulk_frame"
   ]
  },
  {
   "cell_type": "code",
   "execution_count": 13,
   "metadata": {},
   "outputs": [],
   "source": [
    "def ImageDownload(bandlist,bulk_frame,download_path='./'):\n",
    "    start_time = time.time()\n",
    "    for i,row in bulk_frame.iterrows():\n",
    "                \n",
    "        for band in bandlist:                                                                  \n",
    "            response = requests.get(row.download_url)\n",
    "            if response.status_code == 200:\n",
    "                if os.path.exists(download_path+row.productId)==False:\n",
    "                    os.makedirs(download_path+row.productId)\n",
    "                    \n",
    "                \n",
    "                image_dir=download_path+row.productId+'/'\n",
    "                print(image_dir)\n",
    "                url = row.download_url[:-10]\n",
    "                image = row.productId+'_B{}.TIF'.format(band)\n",
    "                image_path=image_dir+image\n",
    "                response = requests.get(url+image, stream=True)\n",
    "                #translate_path=image_dir+'4326/'+image\n",
    "                #print(translate_path)\n",
    "                \n",
    "                with open(os.path.join(image_path), 'wb') as output:\n",
    "                    shutil.copyfileobj(response.raw, output)\n",
    "                    #gdal.Warp(translate_path ,image_path, format = 'GTiff', dstSRS = 'EPSG:4326',srcNodata = 0,dstNodata=0)\n",
    "                \n",
    "                \n",
    "                del response\n",
    "                \n",
    "        metadata=row.productId+'_MTL.json'\n",
    "        response_MTL = requests.get(url+metadata, stream=True)\n",
    "    \n",
    "        with open(os.path.join(image_dir+metadata), 'wb') as output:\n",
    "            shutil.copyfileobj(response_MTL.raw, output)\n",
    "        del response_MTL\n",
    "        print(image_dir+metadata)\n",
    "        quality_ass=row.productId+'_BQA.TIF'\n",
    "        response_QA = requests.get(url+quality_ass, stream=True)\n",
    "        \n",
    "        with open(os.path.join(image_dir+quality_ass), 'wb') as output:\n",
    "            shutil.copyfileobj(response_QA.raw, output)\n",
    "        print(image_dir+quality_ass)\n",
    "    print(\"--- %s seconds ---\" % (time.time() - start_time))\n",
    "        "
   ]
  },
  {
   "cell_type": "code",
   "execution_count": 14,
   "metadata": {},
   "outputs": [],
   "source": [
    "bandlist=[2,3,4,5,6,7,8,9,10]"
   ]
  },
  {
   "cell_type": "code",
   "execution_count": 15,
   "metadata": {
    "scrolled": true
   },
   "outputs": [
    {
     "name": "stdout",
     "output_type": "stream",
     "text": [
      "../tez_data/ege/LC08_L1TP_181033_20190823_20190903_01_T1/\n",
      "../tez_data/ege/LC08_L1TP_181033_20190823_20190903_01_T1/\n",
      "../tez_data/ege/LC08_L1TP_181033_20190823_20190903_01_T1/\n",
      "../tez_data/ege/LC08_L1TP_181033_20190823_20190903_01_T1/\n",
      "../tez_data/ege/LC08_L1TP_181033_20190823_20190903_01_T1/\n",
      "../tez_data/ege/LC08_L1TP_181033_20190823_20190903_01_T1/\n",
      "../tez_data/ege/LC08_L1TP_181033_20190823_20190903_01_T1/\n",
      "../tez_data/ege/LC08_L1TP_181033_20190823_20190903_01_T1/\n",
      "../tez_data/ege/LC08_L1TP_181033_20190823_20190903_01_T1/\n",
      "../tez_data/ege/LC08_L1TP_181033_20190823_20190903_01_T1/LC08_L1TP_181033_20190823_20190903_01_T1_MTL.json\n",
      "../tez_data/ege/LC08_L1TP_181033_20190823_20190903_01_T1/LC08_L1TP_181033_20190823_20190903_01_T1_BQA.TIF\n",
      "../tez_data/ege/LC08_L1TP_181033_20190722_20190801_01_T1/\n",
      "../tez_data/ege/LC08_L1TP_181033_20190722_20190801_01_T1/\n",
      "../tez_data/ege/LC08_L1TP_181033_20190722_20190801_01_T1/\n",
      "../tez_data/ege/LC08_L1TP_181033_20190722_20190801_01_T1/\n",
      "../tez_data/ege/LC08_L1TP_181033_20190722_20190801_01_T1/\n",
      "../tez_data/ege/LC08_L1TP_181033_20190722_20190801_01_T1/\n",
      "../tez_data/ege/LC08_L1TP_181033_20190722_20190801_01_T1/\n",
      "../tez_data/ege/LC08_L1TP_181033_20190722_20190801_01_T1/\n",
      "../tez_data/ege/LC08_L1TP_181033_20190722_20190801_01_T1/\n",
      "../tez_data/ege/LC08_L1TP_181033_20190722_20190801_01_T1/LC08_L1TP_181033_20190722_20190801_01_T1_MTL.json\n",
      "../tez_data/ege/LC08_L1TP_181033_20190722_20190801_01_T1/LC08_L1TP_181033_20190722_20190801_01_T1_BQA.TIF\n",
      "--- 155.98400902748108 seconds ---\n"
     ]
    }
   ],
   "source": [
    "ImageDownload(bandlist,bulk_frame,download_path)"
   ]
  },
  {
   "cell_type": "code",
   "execution_count": 28,
   "metadata": {},
   "outputs": [],
   "source": [
    "import rasterio"
   ]
  },
  {
   "cell_type": "code",
   "execution_count": 31,
   "metadata": {},
   "outputs": [],
   "source": [
    "def ImageInfo(imagepath):\n",
    "    raster=rasterio.open(imagepath)\n",
    "    rasterinfo={'profile':raster.profile,'name':raster.name,'mode':raster.mode,'band_count':raster.count,\n",
    "               'size':(raster.width,raster.height),'bbox':raster.bounds,'crs':raster.crs}\n",
    "    return rasterinfo"
   ]
  },
  {
   "cell_type": "code",
   "execution_count": null,
   "metadata": {},
   "outputs": [],
   "source": []
  },
  {
   "cell_type": "code",
   "execution_count": null,
   "metadata": {},
   "outputs": [],
   "source": []
  },
  {
   "cell_type": "code",
   "execution_count": null,
   "metadata": {},
   "outputs": [],
   "source": []
  },
  {
   "cell_type": "code",
   "execution_count": null,
   "metadata": {},
   "outputs": [],
   "source": []
  },
  {
   "cell_type": "code",
   "execution_count": null,
   "metadata": {},
   "outputs": [],
   "source": []
  },
  {
   "cell_type": "code",
   "execution_count": null,
   "metadata": {},
   "outputs": [],
   "source": []
  }
 ],
 "metadata": {
  "kernelspec": {
   "display_name": "Python 3",
   "language": "python",
   "name": "python3"
  },
  "language_info": {
   "codemirror_mode": {
    "name": "ipython",
    "version": 3
   },
   "file_extension": ".py",
   "mimetype": "text/x-python",
   "name": "python",
   "nbconvert_exporter": "python",
   "pygments_lexer": "ipython3",
   "version": "3.6.9"
  }
 },
 "nbformat": 4,
 "nbformat_minor": 4
}
