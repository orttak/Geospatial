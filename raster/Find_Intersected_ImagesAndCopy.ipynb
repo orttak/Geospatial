{
 "cells": [
  {
   "cell_type": "code",
   "execution_count": 1,
   "metadata": {},
   "outputs": [],
   "source": [
    "#define the intersected images and move or copy another directory"
   ]
  },
  {
   "cell_type": "code",
   "execution_count": null,
   "metadata": {},
   "outputs": [],
   "source": [
    "from osgeo import gdal,ogr\n",
    "import geopandas\n",
    "import shutil"
   ]
  },
  {
   "cell_type": "code",
   "execution_count": null,
   "metadata": {},
   "outputs": [],
   "source": [
    "def ImageBoundry(FilePath):\n",
    "\n",
    "        from osgeo import gdal,ogr\n",
    "        ds = gdal.Open(FilePath)\n",
    "        gt = ds.GetGeoTransform()  # captures origin and pixel size\n",
    "\n",
    "        ULC = gdal.ApplyGeoTransform(gt, 0, 0) #Upper Left Corner\n",
    "        URC = gdal.ApplyGeoTransform(gt, ds.RasterXSize, 0) #Upper Right Corner\n",
    "        LLC = gdal.ApplyGeoTransform(gt, 0, ds.RasterYSize) #Lower Left Corner\n",
    "        LRC = gdal.ApplyGeoTransform(gt, ds.RasterXSize, ds.RasterYSize) #Lower Right Corner\n",
    "                   \n",
    "        ring = ogr.Geometry(ogr.wkbLinearRing)\n",
    "        ring.AddPoint_2D(ULC[0], ULC[1])\n",
    "        ring.AddPoint_2D(URC[0], URC[1])\n",
    "        ring.AddPoint_2D(LRC[0], LRC[1])\n",
    "        ring.AddPoint_2D(LLC[0], LLC[1])\n",
    "        ring.AddPoint_2D(ULC[0], ULC[1]) \n",
    "        poly=ogr.Geometry(ogr.wkbPolygon)\n",
    "        poly.AddGeometry(ring)\n",
    "        poly.ExportToJson\n",
    "        return poly.ExportToJson()"
   ]
  },
  {
   "cell_type": "code",
   "execution_count": null,
   "metadata": {},
   "outputs": [],
   "source": [
    "def ListofExtention(directory,extension):\n",
    "     \n",
    "        if len(directory) != None:\n",
    "            import os\n",
    "            FilesList = []\n",
    "            for root, subdirectory, files in os.walk(directory):\n",
    "                for file in files:\n",
    "                    if file.endswith(extension):\n",
    "                        FilesList.append(os.path.join(root,file))\n",
    "\n",
    "            return FilesList\n",
    "        else:\n",
    "            print(\"no\"+ extension +\"file for this directory\")"
   ]
  },
  {
   "cell_type": "code",
   "execution_count": null,
   "metadata": {},
   "outputs": [],
   "source": [
    "countries=geopandas.read_file('countries.shp')\n",
    "countries_geom=countries.geometry"
   ]
  },
  {
   "cell_type": "code",
   "execution_count": null,
   "metadata": {},
   "outputs": [],
   "source": [
    "listofimages=ListofExtention('/target_tif_files',\".tif\")\n",
    "DestinitonPath=r\"\""
   ]
  },
  {
   "cell_type": "code",
   "execution_count": null,
   "metadata": {},
   "outputs": [],
   "source": [
    "for index,img in enumerate(listofimages,0):\n",
    "    ImageBoundry_result=ImageBoundry(listofimages[index])\n",
    "    gdf = geopandas.read_file(ImageBoundry_result)\n",
    "    geom_gdf=gdf.geometry\n",
    "    for i in range(len(countries_geom)):\n",
    "        intersect=geom_gdf.intersects(countries_geom[i])\n",
    "        for i in intersect:\n",
    "            if i==True:\n",
    "                shutil.copy2(img,DestinitonPath)\n",
    "                \n"
   ]
  }
 ],
 "metadata": {
  "kernelspec": {
   "display_name": "Python 3",
   "language": "python",
   "name": "python3"
  },
  "language_info": {
   "codemirror_mode": {
    "name": "ipython",
    "version": 3
   },
   "file_extension": ".py",
   "mimetype": "text/x-python",
   "name": "python",
   "nbconvert_exporter": "python",
   "pygments_lexer": "ipython3",
   "version": "3.8.5"
  }
 },
 "nbformat": 4,
 "nbformat_minor": 4
}
